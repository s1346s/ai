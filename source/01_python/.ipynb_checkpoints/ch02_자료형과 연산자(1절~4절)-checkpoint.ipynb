{
 "cells": [
  {
   "cell_type": "code",
   "execution_count": 24,
   "id": "02821e5b",
   "metadata": {
    "ExecuteTime": {
     "end_time": "2025-09-12T04:11:10.743234Z",
     "start_time": "2025-09-12T04:11:10.722304Z"
    }
   },
   "outputs": [
    {
     "data": {
      "text/html": [
       "\n",
       "<style>\n",
       "div.container {\n",
       "    width: 90% !important;\n",
       "}\n",
       "div.cell.code_cell.rendered {\n",
       "    width: auto;  /* 예시 값 넣었어요 */\n",
       "}\n",
       "div.input_prompt {\n",
       "    padding: 5px;  /* 예시 값 */\n",
       "}\n",
       "div.CodeMirror {\n",
       "    font-family: Consolas; \n",
       "    font-size: 12pt;\n",
       "}\n",
       "div.text_cell_render.rendered_html {\n",
       "    font-size: 12pt;\n",
       "}\n",
       "div.output {\n",
       "    font-size: 12pt; \n",
       "    font-weight: bold;\n",
       "}\n",
       "div.input {\n",
       "    font-family: Consolas; \n",
       "    font-size: 12pt;\n",
       "}\n",
       "div.prompt {\n",
       "    min-width: 70px;\n",
       "}\n",
       "div#toc.wrapper {\n",
       "    padding-top: 120px;\n",
       "}\n",
       "div.text_cell_render ul li {\n",
       "    font-size: 12pt;\n",
       "    padding: 5px;\n",
       "}\n",
       "table.dataframe {\n",
       "    font-size: 12px;\n",
       "}\n",
       "</style>\n"
      ],
      "text/plain": [
       "<IPython.core.display.HTML object>"
      ]
     },
     "metadata": {},
     "output_type": "display_data"
    }
   ],
   "source": [
    "from IPython.display import display, HTML\n",
    "display(HTML(\"\"\"\n",
    "<style>\n",
    "div.container {\n",
    "    width: 90% !important;\n",
    "}\n",
    "div.cell.code_cell.rendered {\n",
    "    width: auto;  /* 예시 값 넣었어요 */\n",
    "}\n",
    "div.input_prompt {\n",
    "    padding: 5px;  /* 예시 값 */\n",
    "}\n",
    "div.CodeMirror {\n",
    "    font-family: Consolas; \n",
    "    font-size: 12pt;\n",
    "}\n",
    "div.text_cell_render.rendered_html {\n",
    "    font-size: 12pt;\n",
    "}\n",
    "div.output {\n",
    "    font-size: 12pt; \n",
    "    font-weight: bold;\n",
    "}\n",
    "div.input {\n",
    "    font-family: Consolas; \n",
    "    font-size: 12pt;\n",
    "}\n",
    "div.prompt {\n",
    "    min-width: 70px;\n",
    "}\n",
    "div#toc.wrapper {\n",
    "    padding-top: 120px;\n",
    "}\n",
    "div.text_cell_render ul li {\n",
    "    font-size: 12pt;\n",
    "    padding: 5px;\n",
    "}\n",
    "table.dataframe {\n",
    "    font-size: 12px;\n",
    "}\n",
    "</style>\n",
    "\"\"\"))\n"
   ]
  },
  {
   "cell_type": "markdown",
   "id": "0e249e5a",
   "metadata": {
    "ExecuteTime": {
     "end_time": "2025-09-12T01:58:37.143007Z",
     "start_time": "2025-09-12T01:58:37.131888Z"
    }
   },
   "source": [
    "<b><font size=\"6\" color=\"red\"> ch02. 자료형과 연산자 </font></b>\n",
    "\n",
    "# 1절. 변수\n",
    "- 변수 : 프로그램 작업 처리를 위해, 값을 저장할 수 있는 메모리 공간\n",
    "- 파있너은 변수 선언을 위한 타입이 없고, 별도의 선언 과정도 없음.\n",
    "\n",
    "## 1.1 변수 할당\n",
    "- 할당연산자(=)을 이용해서 값을 할당하면 자료형(타입)이 셋팅\n",
    "- 파이썬에서의 모든 변수는 객체로 저장 "
   ]
  },
  {
   "cell_type": "code",
   "execution_count": 25,
   "id": "60a39d9e",
   "metadata": {
    "ExecuteTime": {
     "end_time": "2025-09-12T04:11:10.759225Z",
     "start_time": "2025-09-12T04:11:10.745228Z"
    }
   },
   "outputs": [
    {
     "name": "stdout",
     "output_type": "stream",
     "text": [
      "넓이 : 78.5\n"
     ]
    }
   ],
   "source": [
    "r = 5\n",
    "area = 3.14 * r * r\n",
    "print('넓이 :', area)"
   ]
  },
  {
   "cell_type": "code",
   "execution_count": 26,
   "id": "28a4867b",
   "metadata": {
    "ExecuteTime": {
     "end_time": "2025-09-12T04:11:10.774668Z",
     "start_time": "2025-09-12T04:11:10.761214Z"
    }
   },
   "outputs": [
    {
     "name": "stdout",
     "output_type": "stream",
     "text": [
      "넓이 : 78.53981633974483\n"
     ]
    }
   ],
   "source": [
    "import numpy as np \n",
    "area = np.pi * r * r\n",
    "print('넓이 :' , area)"
   ]
  },
  {
   "cell_type": "code",
   "execution_count": 27,
   "id": "1c1ba480",
   "metadata": {
    "ExecuteTime": {
     "end_time": "2025-09-12T04:11:10.785804Z",
     "start_time": "2025-09-12T04:11:10.778113Z"
    }
   },
   "outputs": [
    {
     "name": "stdout",
     "output_type": "stream",
     "text": [
      "area의 주소 : 2026189454608\n",
      "area의 타입 : <class 'float'>\n"
     ]
    }
   ],
   "source": [
    "print('area의 주소 :', id(area))\n",
    "print('area의 타입 :', type(area))"
   ]
  },
  {
   "cell_type": "code",
   "execution_count": 28,
   "id": "9ecb17a5",
   "metadata": {
    "ExecuteTime": {
     "end_time": "2025-09-12T04:11:10.798059Z",
     "start_time": "2025-09-12T04:11:10.787919Z"
    }
   },
   "outputs": [
    {
     "data": {
      "text/plain": [
       "False"
      ]
     },
     "execution_count": 28,
     "metadata": {},
     "output_type": "execute_result"
    }
   ],
   "source": [
    "area.is_integer()"
   ]
  },
  {
   "cell_type": "code",
   "execution_count": 29,
   "id": "bc11edb6",
   "metadata": {
    "ExecuteTime": {
     "end_time": "2025-09-12T04:11:10.814223Z",
     "start_time": "2025-09-12T04:11:10.798598Z"
    }
   },
   "outputs": [
    {
     "name": "stdout",
     "output_type": "stream",
     "text": [
      "area의 주소 : 2026114056720\n",
      "area의 타입 : <class 'int'>\n"
     ]
    }
   ],
   "source": [
    "area = 10\n",
    "print('area의 주소 :', id(area))\n",
    "print('area의 타입 :', type(area))"
   ]
  },
  {
   "cell_type": "code",
   "execution_count": 30,
   "id": "eae09d21",
   "metadata": {
    "ExecuteTime": {
     "end_time": "2025-09-12T04:11:10.829993Z",
     "start_time": "2025-09-12T04:11:10.817343Z"
    }
   },
   "outputs": [
    {
     "name": "stdout",
     "output_type": "stream",
     "text": [
      "area의 주소 : 2026229417520\n",
      "area의 타입 : <class 'str'>\n"
     ]
    }
   ],
   "source": [
    "area = \"파이썬\"\n",
    "print('area의 주소 :', id(area))\n",
    "print('area의 타입 :', type(area))"
   ]
  },
  {
   "cell_type": "markdown",
   "id": "f4c6d75a",
   "metadata": {},
   "source": [
    "## 1.2 변수(함수) 이름 규칙\n",
    "- 문자로 시작\n",
    "- 문자(특수문자는 _ 외에는 불가), 숫자, _로 변수명 작성\n",
    "- 함수명은 변수명으로 가능하나 피한다. 꼭 써야 한다면 str_식으로 사용한다\n",
    "- 파이썬 예약어(for, if,...)는 변수명 사용 불가\n",
    "- 한글 변수는 꼭 필요시에만 사용"
   ]
  },
  {
   "cell_type": "code",
   "execution_count": 31,
   "id": "7e26d025",
   "metadata": {
    "ExecuteTime": {
     "end_time": "2025-09-12T04:11:10.846225Z",
     "start_time": "2025-09-12T04:11:10.832085Z"
    }
   },
   "outputs": [
    {
     "name": "stdout",
     "output_type": "stream",
     "text": [
      "홍길동\n"
     ]
    }
   ],
   "source": [
    "이름 = \"홍길동\" # 비추\n",
    "print(이름)"
   ]
  },
  {
   "cell_type": "code",
   "execution_count": 32,
   "id": "fa2707a5",
   "metadata": {
    "ExecuteTime": {
     "end_time": "2025-09-12T04:11:10.862066Z",
     "start_time": "2025-09-12T04:11:10.848285Z"
    }
   },
   "outputs": [
    {
     "ename": "SyntaxError",
     "evalue": "invalid syntax (3039934606.py, line 1)",
     "output_type": "error",
     "traceback": [
      "\u001b[1;36m  Cell \u001b[1;32mIn[32], line 1\u001b[1;36m\u001b[0m\n\u001b[1;33m    for = 5\u001b[0m\n\u001b[1;37m        ^\u001b[0m\n\u001b[1;31mSyntaxError\u001b[0m\u001b[1;31m:\u001b[0m invalid syntax\n"
     ]
    }
   ],
   "source": [
    "for = 5"
   ]
  },
  {
   "cell_type": "code",
   "execution_count": null,
   "id": "8f26dbf7",
   "metadata": {
    "ExecuteTime": {
     "end_time": "2025-09-12T04:11:10.870659Z",
     "start_time": "2025-09-12T04:11:10.870659Z"
    }
   },
   "outputs": [],
   "source": [
    "# member.name = \"홍길동\"\n",
    "member_name = \"홍길동\"\n",
    "memberName = \"홍길동\"\n",
    "print(member_name, memberName)"
   ]
  },
  {
   "cell_type": "code",
   "execution_count": null,
   "id": "d4f8aadd",
   "metadata": {
    "ExecuteTime": {
     "end_time": "2025-09-12T04:11:10.870659Z",
     "start_time": "2025-09-12T04:11:10.870659Z"
    }
   },
   "outputs": [],
   "source": [
    "# 숫자 : 정수, 실수, 복소수\n",
    "i = 1 + 3j # 복소수\n",
    "print(type(i))"
   ]
  },
  {
   "cell_type": "code",
   "execution_count": null,
   "id": "282d86fb",
   "metadata": {
    "ExecuteTime": {
     "end_time": "2025-09-12T04:11:10.870659Z",
     "start_time": "2025-09-12T04:11:10.870659Z"
    }
   },
   "outputs": [],
   "source": [
    "isinstance(i, complex) # i변수가 complex 타입의 객체인지?"
   ]
  },
  {
   "cell_type": "code",
   "execution_count": null,
   "id": "c27e8f0d",
   "metadata": {
    "ExecuteTime": {
     "end_time": "2025-09-12T04:11:10.878472Z",
     "start_time": "2025-09-12T04:11:10.878472Z"
    }
   },
   "outputs": [],
   "source": [
    "isinstance(i, int) # i변수가 int타입의 객체인지?"
   ]
  },
  {
   "cell_type": "markdown",
   "id": "77697c38",
   "metadata": {
    "ExecuteTime": {
     "end_time": "2025-09-12T03:52:24.167553Z",
     "start_time": "2025-09-12T03:52:24.162679Z"
    }
   },
   "source": [
    "## 1.3 다중 변수 선언"
   ]
  },
  {
   "cell_type": "code",
   "execution_count": null,
   "id": "f379c9e6",
   "metadata": {
    "ExecuteTime": {
     "end_time": "2025-09-12T04:11:10.878472Z",
     "start_time": "2025-09-12T04:11:10.878472Z"
    }
   },
   "outputs": [],
   "source": [
    "a=10\n",
    "b=20"
   ]
  },
  {
   "cell_type": "code",
   "execution_count": null,
   "id": "2ebd891c",
   "metadata": {
    "ExecuteTime": {
     "end_time": "2025-09-12T04:11:10.878472Z",
     "start_time": "2025-09-12T04:11:10.878472Z"
    }
   },
   "outputs": [],
   "source": [
    "a,b=10,20\n",
    "print(a,b)"
   ]
  },
  {
   "cell_type": "code",
   "execution_count": null,
   "id": "caae4ac4",
   "metadata": {
    "ExecuteTime": {
     "end_time": "2025-09-12T04:11:10.882805Z",
     "start_time": "2025-09-12T04:11:10.882805Z"
    }
   },
   "outputs": [],
   "source": [
    "a, b = b, a+b   # 다중 변수 할당시 순차적 할당이 아니고, 일괄 동시 할당\n",
    "print(a, b)"
   ]
  },
  {
   "cell_type": "markdown",
   "id": "2c36e647",
   "metadata": {
    "ExecuteTime": {
     "end_time": "2025-09-12T03:53:55.926184Z",
     "start_time": "2025-09-12T03:53:55.921439Z"
    }
   },
   "source": [
    "## 1.4 도움말"
   ]
  },
  {
   "cell_type": "code",
   "execution_count": null,
   "id": "5b515f3c",
   "metadata": {
    "ExecuteTime": {
     "end_time": "2025-09-12T04:11:10.884802Z",
     "start_time": "2025-09-12T04:11:10.884802Z"
    }
   },
   "outputs": [],
   "source": [
    "help() # help빠져나오기 : q / 결과접기/펴기 : esc+o"
   ]
  },
  {
   "cell_type": "code",
   "execution_count": null,
   "id": "e2cd7673",
   "metadata": {
    "ExecuteTime": {
     "end_time": "2025-09-12T04:11:10.886451Z",
     "start_time": "2025-09-12T04:11:10.886451Z"
    }
   },
   "outputs": [],
   "source": [
    "# 도움말 기능 : shift + tab 키\n",
    "print()"
   ]
  },
  {
   "cell_type": "code",
   "execution_count": null,
   "id": "7bdb8a87",
   "metadata": {
    "ExecuteTime": {
     "end_time": "2025-09-12T04:11:10.886674Z",
     "start_time": "2025-09-12T04:11:10.886674Z"
    }
   },
   "outputs": [],
   "source": [
    "def add(x, y=0):\n",
    "    '''\n",
    "    매개변수(x, y) 2개를 받아 두자리 숫자로 만들는 함수\n",
    "    x = 10의 자리수가 되고\n",
    "    y = 1의 자리수가 됨(default값 0)\n",
    "    '''\n",
    "    return x*10 + y"
   ]
  },
  {
   "cell_type": "code",
   "execution_count": null,
   "id": "f6b976f1",
   "metadata": {
    "ExecuteTime": {
     "end_time": "2025-09-12T04:11:10.886674Z",
     "start_time": "2025-09-12T04:11:10.886674Z"
    }
   },
   "outputs": [],
   "source": [
    "add(3, 4)"
   ]
  },
  {
   "cell_type": "code",
   "execution_count": null,
   "id": "41fc1361",
   "metadata": {
    "ExecuteTime": {
     "end_time": "2025-09-12T04:11:10.886674Z",
     "start_time": "2025-09-12T04:11:10.886674Z"
    }
   },
   "outputs": [],
   "source": [
    "add(3)"
   ]
  },
  {
   "cell_type": "markdown",
   "id": "bb9e3af5",
   "metadata": {
    "ExecuteTime": {
     "start_time": "2025-09-12T04:07:49.097Z"
    }
   },
   "source": [
    "## 2절. 화면i/o"
   ]
  },
  {
   "cell_type": "code",
   "execution_count": 33,
   "id": "9f4bebef",
   "metadata": {
    "ExecuteTime": {
     "end_time": "2025-09-12T04:11:28.865987Z",
     "start_time": "2025-09-12T04:11:26.920575Z"
    }
   },
   "outputs": [
    {
     "name": "stdout",
     "output_type": "stream",
     "text": [
      "ㅁ\n",
      "ㅁ\n"
     ]
    }
   ],
   "source": [
    "# input() : 사용자로부터 값을 입력받기 위한 함수. 입력값은 문자(str)로 받음\n",
    "first = input()\n",
    "print(first)"
   ]
  },
  {
   "cell_type": "code",
   "execution_count": 34,
   "id": "7c9f1376",
   "metadata": {
    "ExecuteTime": {
     "end_time": "2025-09-12T04:11:40.495226Z",
     "start_time": "2025-09-12T04:11:31.713337Z"
    }
   },
   "outputs": [
    {
     "name": "stdout",
     "output_type": "stream",
     "text": [
      "첫번째 숫자는?10\n",
      "두번째 숫자는?10\n"
     ]
    }
   ],
   "source": [
    "first = input('첫번째 숫자는?')\n",
    "second = input('두번째 숫자는?')"
   ]
  },
  {
   "cell_type": "code",
   "execution_count": 35,
   "id": "b931481c",
   "metadata": {
    "ExecuteTime": {
     "end_time": "2025-09-12T04:11:42.265473Z",
     "start_time": "2025-09-12T04:11:42.258875Z"
    }
   },
   "outputs": [
    {
     "name": "stdout",
     "output_type": "stream",
     "text": [
      "10 10\n"
     ]
    }
   ],
   "source": [
    "print(first, second)"
   ]
  },
  {
   "cell_type": "code",
   "execution_count": 36,
   "id": "9d6a0407",
   "metadata": {
    "ExecuteTime": {
     "end_time": "2025-09-12T04:11:44.262447Z",
     "start_time": "2025-09-12T04:11:44.257116Z"
    }
   },
   "outputs": [
    {
     "name": "stdout",
     "output_type": "stream",
     "text": [
      "두수의 합은 1010\n"
     ]
    }
   ],
   "source": [
    "print('두수의 합은', first+second)"
   ]
  },
  {
   "cell_type": "code",
   "execution_count": 37,
   "id": "e40daba6",
   "metadata": {
    "ExecuteTime": {
     "end_time": "2025-09-12T04:11:48.578920Z",
     "start_time": "2025-09-12T04:11:46.280017Z"
    }
   },
   "outputs": [
    {
     "name": "stdout",
     "output_type": "stream",
     "text": [
      "첫번째 숫자는?10\n",
      "두번째 숫자는?10\n"
     ]
    }
   ],
   "source": [
    "first = int(input('첫번째 숫자는?'))\n",
    "second = int(input('두번째 숫자는?'))"
   ]
  },
  {
   "cell_type": "code",
   "execution_count": 38,
   "id": "ebdbe841",
   "metadata": {
    "ExecuteTime": {
     "end_time": "2025-09-12T04:12:00.493495Z",
     "start_time": "2025-09-12T04:12:00.484209Z"
    }
   },
   "outputs": [
    {
     "name": "stdout",
     "output_type": "stream",
     "text": [
      "두수의 합은 20\n"
     ]
    }
   ],
   "source": [
    "print('두수의 합은', first+second)"
   ]
  },
  {
   "cell_type": "code",
   "execution_count": 39,
   "id": "90a1f22a",
   "metadata": {
    "ExecuteTime": {
     "end_time": "2025-09-12T04:12:02.510842Z",
     "start_time": "2025-09-12T04:12:02.500001Z"
    }
   },
   "outputs": [
    {
     "name": "stdout",
     "output_type": "stream",
     "text": [
      "first - 10 - second - 10\n"
     ]
    }
   ],
   "source": [
    "print('first', first, 'second', second, sep=' - ')"
   ]
  },
  {
   "cell_type": "code",
   "execution_count": 40,
   "id": "3fadbbbd",
   "metadata": {
    "ExecuteTime": {
     "end_time": "2025-09-12T04:13:09.498616Z",
     "start_time": "2025-09-12T04:13:09.486162Z"
    }
   },
   "outputs": [
    {
     "name": "stdout",
     "output_type": "stream",
     "text": [
      "first - 10 - second - 10\tHello Python\n"
     ]
    }
   ],
   "source": [
    "print('first', first, 'second', second, sep=' - ', end='\\t')\n",
    "print('Hello', 'Python', sep=' ')"
   ]
  },
  {
   "cell_type": "markdown",
   "id": "47029157",
   "metadata": {
    "ExecuteTime": {
     "end_time": "2025-09-12T05:36:29.172061Z",
     "start_time": "2025-09-12T05:36:29.141114Z"
    }
   },
   "source": [
    "## 3절. 기본 자료형"
   ]
  },
  {
   "cell_type": "code",
   "execution_count": null,
   "id": "172d66d6",
   "metadata": {},
   "outputs": [],
   "source": [
    "자료형 : 변수가 가져야 할 값의 형식. 자료형의 따라 값의 크기와 저장 방식 달라짐\n",
    "자료형에 따라 수행할 수 있는 명령어들이 달라짐\n",
    "-숫자 : int, float(소수점 4.0), complex(허수부 j)\n",
    "-문자 : str(\"\", '')\n",
    "-논리 : bool(True/False)\n"
   ]
  },
  {
   "cell_type": "markdown",
   "id": "f6326de1",
   "metadata": {
    "ExecuteTime": {
     "end_time": "2025-09-12T05:52:32.949739Z",
     "start_time": "2025-09-12T05:52:32.945108Z"
    }
   },
   "source": [
    "## 3.1 숫자형"
   ]
  },
  {
   "cell_type": "code",
   "execution_count": 43,
   "id": "fdb42eae",
   "metadata": {
    "ExecuteTime": {
     "end_time": "2025-09-12T05:52:45.510178Z",
     "start_time": "2025-09-12T05:52:45.495229Z"
    }
   },
   "outputs": [
    {
     "name": "stdout",
     "output_type": "stream",
     "text": [
      "9223372036854775807\n"
     ]
    }
   ],
   "source": [
    "import sys\n",
    "print(sys.maxsize) # 정수의 최대값 : 2**63 - 1"
   ]
  },
  {
   "cell_type": "code",
   "execution_count": 44,
   "id": "ca739445",
   "metadata": {
    "ExecuteTime": {
     "end_time": "2025-09-12T05:52:49.748378Z",
     "start_time": "2025-09-12T05:52:49.741363Z"
    }
   },
   "outputs": [
    {
     "data": {
      "text/plain": [
       "9223372036854775807"
      ]
     },
     "execution_count": 44,
     "metadata": {},
     "output_type": "execute_result"
    }
   ],
   "source": [
    "2**63 - 1"
   ]
  },
  {
   "cell_type": "code",
   "execution_count": 48,
   "id": "2ea9b69a",
   "metadata": {
    "ExecuteTime": {
     "end_time": "2025-09-12T05:53:24.413522Z",
     "start_time": "2025-09-12T05:53:24.381815Z"
    }
   },
   "outputs": [
    {
     "name": "stdout",
     "output_type": "stream",
     "text": [
      "19223372036854775807\n",
      "<class 'int'>\n"
     ]
    }
   ],
   "source": [
    "i = sys.maxsize + 10000000000000000000\n",
    "print(i)\n",
    "print(type(i))"
   ]
  },
  {
   "cell_type": "code",
   "execution_count": 49,
   "id": "f45e2196",
   "metadata": {
    "ExecuteTime": {
     "end_time": "2025-09-12T05:53:35.226800Z",
     "start_time": "2025-09-12T05:53:35.213791Z"
    }
   },
   "outputs": [
    {
     "name": "stdout",
     "output_type": "stream",
     "text": [
      "1.2e-20\n",
      "1.2e+20\n"
     ]
    }
   ],
   "source": [
    "# f = 0.000000000000000000012\n",
    "f = 1.2e-20 # 지수형 1.2*10의 -20승\n",
    "print(f)\n",
    "b = 1.2e20 # 지수형 1.2의 10의 20승\n",
    "print(b)\n"
   ]
  },
  {
   "cell_type": "code",
   "execution_count": 50,
   "id": "73af226e",
   "metadata": {
    "ExecuteTime": {
     "end_time": "2025-09-12T05:53:39.644226Z",
     "start_time": "2025-09-12T05:53:39.631136Z"
    }
   },
   "outputs": [
    {
     "name": "stdout",
     "output_type": "stream",
     "text": [
      "f= 2.0\n"
     ]
    }
   ],
   "source": [
    "# 파이썬에서는 /의 결과는 무조건 실수\n",
    "f = 4/2\n",
    "print('f=',f)"
   ]
  },
  {
   "cell_type": "code",
   "execution_count": 51,
   "id": "22ae47dd",
   "metadata": {
    "ExecuteTime": {
     "end_time": "2025-09-12T05:53:43.810750Z",
     "start_time": "2025-09-12T05:53:43.796761Z"
    }
   },
   "outputs": [
    {
     "name": "stdout",
     "output_type": "stream",
     "text": [
      "f= 1\n",
      "f= 1\n"
     ]
    }
   ],
   "source": [
    "# 자바나 C, C++처럼 정수/정수 결과를 정수로\n",
    "f = int(3/2) # int() : int로 형변환(내림)\n",
    "print('f=', f)\n",
    "f = 3//2 # 몫연산자\n",
    "print('f=',f)"
   ]
  },
  {
   "cell_type": "markdown",
   "id": "22e4fe7c",
   "metadata": {
    "ExecuteTime": {
     "end_time": "2025-09-12T06:04:17.078726Z",
     "start_time": "2025-09-12T06:04:17.070630Z"
    }
   },
   "source": [
    "## 3.2 문자형\n",
    "겹따옴표(\"~\")나 홑따옴표('-') 이용"
   ]
  },
  {
   "cell_type": "code",
   "execution_count": 54,
   "id": "5e80d586",
   "metadata": {
    "ExecuteTime": {
     "end_time": "2025-09-12T06:04:47.037429Z",
     "start_time": "2025-09-12T06:04:47.032462Z"
    }
   },
   "outputs": [
    {
     "name": "stdout",
     "output_type": "stream",
     "text": [
      "홍길동'짱' 서울시 관악구 \"신림\"동\n"
     ]
    }
   ],
   "source": [
    "#name = '홍길동\\'짱\\''     # 홍길동'짱'\n",
    "name = \"홍길동'짱'\"\n",
    "address = '서울시 관악구 \"신림\"동'  # 서울시 관악구 \"신림\"동\n",
    "print(name, address)"
   ]
  },
  {
   "cell_type": "code",
   "execution_count": 55,
   "id": "e3add7e8",
   "metadata": {
    "ExecuteTime": {
     "end_time": "2025-09-12T06:04:50.321057Z",
     "start_time": "2025-09-12T06:04:50.291755Z"
    }
   },
   "outputs": [
    {
     "name": "stdout",
     "output_type": "stream",
     "text": [
      "여러줄\t짜리 내용을 저장\n",
      "줄바꿈 문자를 쓰면 됨\n",
      "줄바꿈\n"
     ]
    }
   ],
   "source": [
    "# escape 문자(탈출문자) : \\n \\t\n",
    "text = '여러줄\\t짜리 내용을 저장\\n줄바꿈 문자를 쓰면 됨\\n줄바꿈'\n",
    "print(text)"
   ]
  },
  {
   "cell_type": "code",
   "execution_count": 56,
   "id": "07be12a7",
   "metadata": {
    "ExecuteTime": {
     "end_time": "2025-09-12T06:04:54.038740Z",
     "start_time": "2025-09-12T06:04:54.027442Z"
    }
   },
   "outputs": [
    {
     "name": "stdout",
     "output_type": "stream",
     "text": [
      "여러줄\t짜리 내용을 저장\n",
      "줄바꿈 문자를 쓰면 됨\n",
      "줄바꿈\n"
     ]
    }
   ],
   "source": [
    "text = '''여러줄\\t짜리 내용을 저장\n",
    "줄바꿈 문자를 쓰면 됨\n",
    "줄바꿈'''\n",
    "print(text)"
   ]
  },
  {
   "cell_type": "code",
   "execution_count": 57,
   "id": "1a0e144f",
   "metadata": {
    "ExecuteTime": {
     "end_time": "2025-09-12T06:25:46.838327Z",
     "start_time": "2025-09-12T06:25:46.816895Z"
    }
   },
   "outputs": [
    {
     "ename": "NameError",
     "evalue": "name 'name1' is not defined",
     "output_type": "error",
     "traceback": [
      "\u001b[1;31m---------------------------------------------------------------------------\u001b[0m",
      "\u001b[1;31mNameError\u001b[0m                                 Traceback (most recent call last)",
      "Cell \u001b[1;32mIn[57], line 1\u001b[0m\n\u001b[1;32m----> 1\u001b[0m \u001b[38;5;28mprint\u001b[39m(\u001b[43mname1\u001b[49m \u001b[38;5;241m*\u001b[39m \u001b[38;5;241m3\u001b[39m)\n",
      "\u001b[1;31mNameError\u001b[0m: name 'name1' is not defined"
     ]
    }
   ],
   "source": [
    "print(name1 * 3)"
   ]
  },
  {
   "cell_type": "markdown",
   "id": "78619ee8",
   "metadata": {
    "ExecuteTime": {
     "end_time": "2025-09-12T06:45:00.335636Z",
     "start_time": "2025-09-12T06:45:00.328110Z"
    }
   },
   "source": [
    "## ※ 문자열 연산(+, *)"
   ]
  },
  {
   "cell_type": "code",
   "execution_count": 60,
   "id": "1862930b",
   "metadata": {
    "ExecuteTime": {
     "end_time": "2025-09-12T06:45:10.544145Z",
     "start_time": "2025-09-12T06:45:10.529476Z"
    }
   },
   "outputs": [
    {
     "name": "stdout",
     "output_type": "stream",
     "text": [
      "홍길동동해번쩍\n",
      "홍길동 동해번쩍\n"
     ]
    }
   ],
   "source": [
    "'''\n",
    "    여러 줄 주석 용도\n",
    "    2025.09.12 문자열 연산 by 아무개\n",
    "'''\n",
    "name1 = \"홍길동\"\n",
    "name2 = \"동해번쩍\"\n",
    "print(name1 + name2)\n",
    "print(name1, name2)"
   ]
  },
  {
   "cell_type": "code",
   "execution_count": 61,
   "id": "e78ad6c2",
   "metadata": {
    "ExecuteTime": {
     "end_time": "2025-09-12T06:45:15.177346Z",
     "start_time": "2025-09-12T06:45:15.167101Z"
    }
   },
   "outputs": [
    {
     "name": "stdout",
     "output_type": "stream",
     "text": [
      "홍길동홍길동홍길동\n"
     ]
    }
   ],
   "source": [
    "print(name1 * 3)"
   ]
  },
  {
   "cell_type": "markdown",
   "id": "093aedad",
   "metadata": {
    "ExecuteTime": {
     "end_time": "2025-09-12T06:45:26.501502Z",
     "start_time": "2025-09-12T06:45:26.493636Z"
    }
   },
   "source": [
    "## ※ raw 데이터\n",
    "-용도 : 정규표현식 이용, 디렉토리 경로를 표현시 이용"
   ]
  },
  {
   "cell_type": "code",
   "execution_count": 65,
   "id": "715ec4ab",
   "metadata": {
    "ExecuteTime": {
     "end_time": "2025-09-12T06:55:43.717224Z",
     "start_time": "2025-09-12T06:55:43.710680Z"
    }
   },
   "outputs": [
    {
     "name": "stdout",
     "output_type": "stream",
     "text": [
      "Hello\\nWorld\n"
     ]
    }
   ],
   "source": [
    "print(r'Hello\\nWorld')\n"
   ]
  },
  {
   "cell_type": "markdown",
   "id": "f6062ea5",
   "metadata": {},
   "source": [
    "정규표현식(regex)\n",
    "\n",
    "1. 참조 : https://goo.gl/HLntbd 위키백과\n",
    "2. 간략문법\n",
    "    \\d (숫자와 매치. [0-9]와 동일)\n",
    "    \\D (숫자가 아닌 것)\n",
    "    \\w (영문자나 숫자 [a-zA-Z0-9]와 동일)\n",
    "    \\W (영문자나 숫자가 아닌 문자)\n",
    "    . (문자)\n",
    "    \\. (.)\n",
    "    \\- (-)\n",
    "    {2,} (2번 이상 반복)\n",
    "    {2, 4} (2~4회 반복)\n",
    "    ?      (0번이나 1번 의미)\n",
    "    +      (1번 이상 반복)\n",
    "    *      (0번 이상 반복)\n",
    "3. 정규표현식 연습장 : https://regexr.com/\n",
    "    ex1. 전화번호 : 02 888 7777 / 028887777 / 010-9999-9999 / 010.9999.9999 / \n",
    "                   02)999-9999\n",
    "                   => 0\\d{1,2}[ \\-\\.)]?\\d{3,4}[ \\-\\.]?\\d{4}\n",
    "    ex2. 이메일 : abc12@naver.com / abc12@sns.co.kr\n",
    "                   => \\w+@\\w+(\\.\\w+){1,2}\n",
    "    ex3. 주민번호 : 981212-1052525\n",
    "           => \\d{2}(0[1-9]|1[0-2])(0[1-9]|[12]\\d|30|31)-[1-4]\\d{6}\n",
    "4. 소스 구현"
   ]
  },
  {
   "cell_type": "code",
   "execution_count": 66,
   "id": "7b40ebeb",
   "metadata": {
    "ExecuteTime": {
     "end_time": "2025-09-12T08:31:57.019479Z",
     "start_time": "2025-09-12T08:31:57.004486Z"
    }
   },
   "outputs": [
    {
     "name": "stdout",
     "output_type": "stream",
     "text": [
      "이름:홍길동, 주소:서울, 전화:02-888-8888, 핸드폰:010-9999-9999, 특징:동해번쩍 서해번쩍혈액형:Bㅋㅋ ㅋㅋzz\n"
     ]
    }
   ],
   "source": [
    "import re\n",
    "data = \"이름:홍길동, 주소:서울, 전화:02-888-8888, \\\n",
    "핸드폰:010-9999-9999, 특징:동해번쩍 서해번쩍\\\n",
    "혈액형:Bㅋㅋ ㅋㅋzz\"\n",
    "print(data)"
   ]
  },
  {
   "cell_type": "code",
   "execution_count": 67,
   "id": "d66d10eb",
   "metadata": {
    "ExecuteTime": {
     "end_time": "2025-09-12T08:33:01.622225Z",
     "start_time": "2025-09-12T08:33:01.610024Z"
    }
   },
   "outputs": [],
   "source": [
    "# 정규표현식 처리에서는 raw데이터 처리를 하지 않아도 실행은 되나\n",
    "# 실수를 줄이고, 가독성을 높이는 용도르 raw 데이터 처리를 사용\n",
    "tel_pattern = r\"0\\d{1,2}[ \\-\\.)]?\\d{3,4}[ \\-\\.]?\\d{4}\"\n",
    "tels = re.findall"
   ]
  },
  {
   "cell_type": "code",
   "execution_count": 68,
   "id": "2000105d",
   "metadata": {
    "ExecuteTime": {
     "end_time": "2025-09-12T08:52:25.641138Z",
     "start_time": "2025-09-12T08:52:25.630841Z"
    }
   },
   "outputs": [
    {
     "data": {
      "text/plain": [
       "['02-888-8888', '010-9999-9999']"
      ]
     },
     "execution_count": 68,
     "metadata": {},
     "output_type": "execute_result"
    }
   ],
   "source": [
    "# 정규표현식 처리에서는 raw데이터 처리를 하지 않아도 실행은 되나\n",
    "# 실수를 줄이고, 가독성을 높이는 용도르 raw 데이터 처리를 사용\n",
    "tel_pattern = r\"0\\d{1,2}[ \\-\\.)]?\\d{3,4}[ \\-\\.]?\\d{4}\"\n",
    "# 해당 패턴을 다 찾아줌. 없으면 빈 list\n",
    "tels = re.findall(tel_pattern, data) \n",
    "tels"
   ]
  },
  {
   "cell_type": "code",
   "execution_count": 69,
   "id": "948c4bd2",
   "metadata": {
    "ExecuteTime": {
     "end_time": "2025-09-12T08:52:29.917882Z",
     "start_time": "2025-09-12T08:52:29.910862Z"
    }
   },
   "outputs": [
    {
     "data": {
      "text/plain": [
       "[]"
      ]
     },
     "execution_count": 69,
     "metadata": {},
     "output_type": "execute_result"
    }
   ],
   "source": [
    "email_pattern = r\"\\w+@\\w+(\\.\\w+){1,2}\"\n",
    "emails = re.findall(email_pattern, data)\n",
    "emails\n"
   ]
  },
  {
   "cell_type": "code",
   "execution_count": 70,
   "id": "5607221c",
   "metadata": {
    "ExecuteTime": {
     "end_time": "2025-09-12T08:52:40.928201Z",
     "start_time": "2025-09-12T08:52:40.919358Z"
    }
   },
   "outputs": [
    {
     "data": {
      "text/plain": [
       "<re.Match object; span=(18, 29), match='02-888-8888'>"
      ]
     },
     "execution_count": 70,
     "metadata": {},
     "output_type": "execute_result"
    }
   ],
   "source": [
    "# 정규표현식 패턴과 처음 match되는 것을 찾아줘\n",
    "firstTel = re.search(tel_pattern, data)\n",
    "firstTel"
   ]
  },
  {
   "cell_type": "code",
   "execution_count": 71,
   "id": "ed6fb9f2",
   "metadata": {
    "ExecuteTime": {
     "end_time": "2025-09-12T08:52:45.301696Z",
     "start_time": "2025-09-12T08:52:45.286070Z"
    }
   },
   "outputs": [
    {
     "name": "stdout",
     "output_type": "stream",
     "text": [
      "02-888-8888\n",
      "02-888-8888\n"
     ]
    }
   ],
   "source": [
    "print(data[18:29]) # 문자열 슬라이싱\n",
    "print(firstTel.group(0))"
   ]
  },
  {
   "cell_type": "code",
   "execution_count": 72,
   "id": "74132882",
   "metadata": {
    "ExecuteTime": {
     "end_time": "2025-09-12T08:52:49.993393Z",
     "start_time": "2025-09-12T08:52:49.981836Z"
    }
   },
   "outputs": [
    {
     "data": {
      "text/plain": [
       "<re.Match object; span=(18, 29), match='02-888-8888'>"
      ]
     },
     "execution_count": 72,
     "metadata": {},
     "output_type": "execute_result"
    }
   ],
   "source": [
    "tel_pattern = r\"(\\d{2,3})-(\\d{3,4})-(\\d{4})\"\n",
    "\n",
    "firstPhone = re.search(tel_pattern, data)\n",
    "firstPhone"
   ]
  },
  {
   "cell_type": "code",
   "execution_count": 73,
   "id": "6c4b1735",
   "metadata": {
    "ExecuteTime": {
     "end_time": "2025-09-12T08:52:53.767376Z",
     "start_time": "2025-09-12T08:52:53.758407Z"
    }
   },
   "outputs": [
    {
     "name": "stdout",
     "output_type": "stream",
     "text": [
      "전체 전화번호 : 02-888-8888\n",
      "국번 : 02\n",
      "중간번호 : 888\n",
      "끝번호 : 8888\n"
     ]
    }
   ],
   "source": [
    "print('전체 전화번호 :', firstPhone.group(0))\n",
    "print('국번 :', firstPhone.group(1))\n",
    "print('중간번호 :', firstPhone.group(2))\n",
    "print('끝번호 :', firstPhone.group(3))"
   ]
  },
  {
   "cell_type": "code",
   "execution_count": 74,
   "id": "ef765a3f",
   "metadata": {
    "ExecuteTime": {
     "end_time": "2025-09-12T08:52:57.968013Z",
     "start_time": "2025-09-12T08:52:57.941946Z"
    }
   },
   "outputs": [
    {
     "data": {
      "text/plain": [
       "'이름홍길동 주소서울 전화028888888 핸드폰01099999999 특징동해번쩍 서해번쩍혈액형B '"
      ]
     },
     "execution_count": 74,
     "metadata": {},
     "output_type": "execute_result"
    }
   ],
   "source": [
    "# data에서 특정한 데이터 없애기\n",
    "re.sub(\"[^가-힣0-9A-Z\\s]\", '', data)"
   ]
  },
  {
   "cell_type": "code",
   "execution_count": null,
   "id": "6d932574",
   "metadata": {},
   "outputs": [],
   "source": []
  }
 ],
 "metadata": {
  "kernelspec": {
   "display_name": "Python 3 (ipykernel)",
   "language": "python",
   "name": "python3"
  },
  "language_info": {
   "codemirror_mode": {
    "name": "ipython",
    "version": 3
   },
   "file_extension": ".py",
   "mimetype": "text/x-python",
   "name": "python",
   "nbconvert_exporter": "python",
   "pygments_lexer": "ipython3",
   "version": "3.10.9"
  },
  "toc": {
   "base_numbering": 1,
   "nav_menu": {},
   "number_sections": false,
   "sideBar": true,
   "skip_h1_title": false,
   "title_cell": "Table of Contents",
   "title_sidebar": "Contents",
   "toc_cell": false,
   "toc_position": {},
   "toc_section_display": true,
   "toc_window_display": false
  },
  "varInspector": {
   "cols": {
    "lenName": 16,
    "lenType": 16,
    "lenVar": 40
   },
   "kernels_config": {
    "python": {
     "delete_cmd_postfix": "",
     "delete_cmd_prefix": "del ",
     "library": "var_list.py",
     "varRefreshCmd": "print(var_dic_list())"
    },
    "r": {
     "delete_cmd_postfix": ") ",
     "delete_cmd_prefix": "rm(",
     "library": "var_list.r",
     "varRefreshCmd": "cat(var_dic_list()) "
    }
   },
   "types_to_exclude": [
    "module",
    "function",
    "builtin_function_or_method",
    "instance",
    "_Feature"
   ],
   "window_display": false
  }
 },
 "nbformat": 4,
 "nbformat_minor": 5
}
