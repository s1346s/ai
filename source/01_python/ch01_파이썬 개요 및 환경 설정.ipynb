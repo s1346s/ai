{
 "cells": [
  {
   "cell_type": "code",
   "execution_count": 3,
   "id": "6fc59e1b",
   "metadata": {
    "ExecuteTime": {
     "end_time": "2025-09-15T02:49:13.708272Z",
     "start_time": "2025-09-15T02:49:13.688958Z"
    }
   },
   "outputs": [
    {
     "data": {
      "text/html": [
       "\n",
       "<style>\n",
       "div.container{width:90% !important;}\n",
       "div.cell.code_cell.rendered{width:100%;}\n",
       "div.input_prompt{padding:0px;}\n",
       "div.CodeMirror {font-family:Consolas; font-size:22pt;}\n",
       "div.text_cell_render.rendered_html{font-size:22pt;}\n",
       "div.output {font-size:22pt; font-weight:bold;}\n",
       "div.input {font-family:Consolas; font-size:22pt;}\n",
       "div.prompt {min-width:70px;}\n",
       "div#toc-wrapper{padding-top:120px;}\n",
       "div.text_cell_render ul li{font-size:22pt;padding:5px;}\n",
       "table.dataframe{font-size:22px;}\n",
       "</style>\n"
      ],
      "text/plain": [
       "<IPython.core.display.HTML object>"
      ]
     },
     "metadata": {},
     "output_type": "display_data"
    }
   ],
   "source": [
    "from IPython.display import display, HTML\n",
    "display(HTML(\"\"\"\n",
    "<style>\n",
    "div.container{width:90% !important;}\n",
    "div.cell.code_cell.rendered{width:100%;}\n",
    "div.input_prompt{padding:0px;}\n",
    "div.CodeMirror {font-family:Consolas; font-size:22pt;}\n",
    "div.text_cell_render.rendered_html{font-size:22pt;}\n",
    "div.output {font-size:22pt; font-weight:bold;}\n",
    "div.input {font-family:Consolas; font-size:22pt;}\n",
    "div.prompt {min-width:70px;}\n",
    "div#toc-wrapper{padding-top:120px;}\n",
    "div.text_cell_render ul li{font-size:22pt;padding:5px;}\n",
    "table.dataframe{font-size:22px;}\n",
    "</style>\n",
    "\"\"\"))"
   ]
  },
  {
   "cell_type": "markdown",
   "id": "f3c77ba8",
   "metadata": {
    "ExecuteTime": {
     "end_time": "2025-09-12T00:58:05.437004Z",
     "start_time": "2025-09-12T00:58:05.426034Z"
    }
   },
   "source": [
    "<b><font size=\"6\" color=\"red\"> ch01.파이썬 개요 및 환경 설정 </font></b>\n",
    "\n",
    "# 1. 마크다운이란?\n",
    "- 코드와 함께 문서화를 할 수 있음\n",
    "- 다양한 문서화 문법 ex. README.md\n",
    "\n",
    "# 2. 주피터 노트북 사용법(큰제목)\n",
    "- shift+Enter : 포커스된 셀이 실행되고, 커서가 다음셀로 이동\n",
    "- Alt+Enter : 포커스된 셀이 실행되고, 다음셀이 생성된 후, 다음셀로 이동\n",
    "- Ctrl+Enter : 포커스된 셀이 실행되고, 포커스 이동이 없음\n",
    "- Enter : 다시 편집 상태로 돌아감"
   ]
  },
  {
   "cell_type": "markdown",
   "id": "0842817a",
   "metadata": {
    "ExecuteTime": {
     "end_time": "2025-09-12T01:49:04.507165Z",
     "start_time": "2025-09-12T01:49:04.501604Z"
    }
   },
   "source": [
    "# 3. ESC키 누르고 \n",
    "- dd : 셀삭제\n",
    "- a : 윗 셀 추가\n",
    "- b : 아랫셀 추가\n",
    "- m : 마크다운 셀로 변경\n",
    "- y : 코드셀로 변경\n",
    "- h : 핫키 안내\n",
    "- o : 실행 결과 접기/펴기"
   ]
  },
  {
   "cell_type": "code",
   "execution_count": 3,
   "id": "8a3c3de5",
   "metadata": {
    "ExecuteTime": {
     "end_time": "2025-09-12T01:47:27.652669Z",
     "start_time": "2025-09-12T01:47:27.647613Z"
    }
   },
   "outputs": [],
   "source": [
    "# 셀 하나하나에 파이썬 소스 입력 -> 실행"
   ]
  },
  {
   "cell_type": "code",
   "execution_count": 6,
   "id": "6e9167bf",
   "metadata": {
    "ExecuteTime": {
     "end_time": "2025-09-12T01:13:40.987750Z",
     "start_time": "2025-09-12T01:13:40.975634Z"
    }
   },
   "outputs": [
    {
     "name": "stdout",
     "output_type": "stream",
     "text": [
      "Hello python\n",
      "홍길동\n",
      "Hello, Python\n",
      "홍길동\n"
     ]
    }
   ],
   "source": [
    "# print()함수를 이용해서 출력\n",
    "print('Hello python')\n",
    "print('홍길동')\n",
    "print(\"Hello, Python\\n홍길동\")\n"
   ]
  },
  {
   "cell_type": "code",
   "execution_count": 11,
   "id": "9723fd6e",
   "metadata": {
    "ExecuteTime": {
     "end_time": "2025-09-12T01:21:09.012754Z",
     "start_time": "2025-09-12T01:21:09.003567Z"
    }
   },
   "outputs": [
    {
     "name": "stdout",
     "output_type": "stream",
     "text": [
      "27\n",
      "252\n"
     ]
    }
   ],
   "source": [
    "age = 25\n",
    "duration = '2' # 문자\n",
    "print( age + int(duration) )\n",
    "print( str(age) + duration)\n"
   ]
  },
  {
   "cell_type": "code",
   "execution_count": 15,
   "id": "a1aabdf0",
   "metadata": {
    "ExecuteTime": {
     "end_time": "2025-09-12T01:43:00.590640Z",
     "start_time": "2025-09-12T01:43:00.580605Z"
    }
   },
   "outputs": [
    {
     "name": "stdout",
     "output_type": "stream",
     "text": [
      "0\n",
      "1\n",
      "2\n",
      "3\n",
      "4\n",
      "5\n",
      "6\n",
      "7\n",
      "8\n",
      "9\n"
     ]
    }
   ],
   "source": [
    "for i in range(10):\n",
    "    print(i)"
   ]
  },
  {
   "cell_type": "code",
   "execution_count": 2,
   "id": "2f498053",
   "metadata": {
    "ExecuteTime": {
     "end_time": "2025-09-12T01:47:15.547251Z",
     "start_time": "2025-09-12T01:47:15.526886Z"
    },
    "scrolled": true
   },
   "outputs": [
    {
     "name": "stdout",
     "output_type": "stream",
     "text": [
      "Variable          Type                          Data/Info\n",
      "---------------------------------------------------------\n",
      "NamespaceMagics   MetaHasTraits                 <class 'IPython.core.magi<...>mespace.NamespaceMagics'>\n",
      "autopep8          module                        <module 'autopep8' from '<...>e-packages\\\\autopep8.py'>\n",
      "get_ipython       function                      <function get_ipython at 0x000001F333E87520>\n",
      "getsizeof         builtin_function_or_method    <built-in function getsizeof>\n",
      "json              module                        <module 'json' from 'C:\\\\<...>\\lib\\\\json\\\\__init__.py'>\n",
      "np                module                        <module 'numpy' from 'C:\\<...>ges\\\\numpy\\\\__init__.py'>\n",
      "var_dic_list      function                      <function var_dic_list at 0x000001F33436D3F0>\n",
      "yapf_reformat     function                      <function yapf_reformat at 0x000001F335EB9360>\n"
     ]
    }
   ],
   "source": [
    "whos"
   ]
  }
 ],
 "metadata": {
  "kernelspec": {
   "display_name": "Python 3 (ipykernel)",
   "language": "python",
   "name": "python3"
  },
  "language_info": {
   "codemirror_mode": {
    "name": "ipython",
    "version": 3
   },
   "file_extension": ".py",
   "mimetype": "text/x-python",
   "name": "python",
   "nbconvert_exporter": "python",
   "pygments_lexer": "ipython3",
   "version": "3.10.9"
  },
  "toc": {
   "base_numbering": 1,
   "nav_menu": {},
   "number_sections": false,
   "sideBar": true,
   "skip_h1_title": false,
   "title_cell": "Table of Contents",
   "title_sidebar": "Contents",
   "toc_cell": false,
   "toc_position": {
    "height": "calc(100% - 180px)",
    "left": "10px",
    "top": "150px",
    "width": "275.391px"
   },
   "toc_section_display": true,
   "toc_window_display": true
  },
  "varInspector": {
   "cols": {
    "lenName": 16,
    "lenType": 16,
    "lenVar": 40
   },
   "kernels_config": {
    "python": {
     "delete_cmd_postfix": "",
     "delete_cmd_prefix": "del ",
     "library": "var_list.py",
     "varRefreshCmd": "print(var_dic_list())"
    },
    "r": {
     "delete_cmd_postfix": ") ",
     "delete_cmd_prefix": "rm(",
     "library": "var_list.r",
     "varRefreshCmd": "cat(var_dic_list()) "
    }
   },
   "types_to_exclude": [
    "module",
    "function",
    "builtin_function_or_method",
    "instance",
    "_Feature"
   ],
   "window_display": false
  }
 },
 "nbformat": 4,
 "nbformat_minor": 5
}
