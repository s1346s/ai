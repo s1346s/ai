{
 "cells": [
  {
   "cell_type": "code",
   "execution_count": 1,
   "id": "37925f80",
   "metadata": {
    "ExecuteTime": {
     "end_time": "2025-09-17T06:55:18.763617Z",
     "start_time": "2025-09-17T06:55:18.750154Z"
    }
   },
   "outputs": [
    {
     "data": {
      "text/html": [
       "\n",
       "<style>\n",
       "div.container{width:90% !important;}\n",
       "div.cell.code_cell.rendered{width:100%;}\n",
       "div.input_prompt{padding:0px;}\n",
       "div.CodeMirror {font-family:Consolas; font-size:22pt;}\n",
       "div.text_cell_render.rendered_html{font-size:22pt;}\n",
       "div.output {font-size:22pt; font-weight:bold;}\n",
       "div.input {font-family:Consolas; font-size:22pt;}\n",
       "div.prompt {min-width:70px;}\n",
       "div#toc-wrapper{padding-top:120px;}\n",
       "div.text_cell_render ul li{font-size:22pt;padding:5px;}\n",
       "table.dataframe{font-size:22px;}\n",
       "</style>\n"
      ],
      "text/plain": [
       "<IPython.core.display.HTML object>"
      ]
     },
     "metadata": {},
     "output_type": "display_data"
    }
   ],
   "source": [
    "from IPython.display import display, HTML\n",
    "display(HTML(\"\"\"\n",
    "<style>\n",
    "div.container{width:90% !important;}\n",
    "div.cell.code_cell.rendered{width:100%;}\n",
    "div.input_prompt{padding:0px;}\n",
    "div.CodeMirror {font-family:Consolas; font-size:22pt;}\n",
    "div.text_cell_render.rendered_html{font-size:22pt;}\n",
    "div.output {font-size:22pt; font-weight:bold;}\n",
    "div.input {font-family:Consolas; font-size:22pt;}\n",
    "div.prompt {min-width:70px;}\n",
    "div#toc-wrapper{padding-top:120px;}\n",
    "div.text_cell_render ul li{font-size:22pt;padding:5px;}\n",
    "table.dataframe{font-size:22px;}\n",
    "</style>\n",
    "\"\"\"))"
   ]
  },
  {
   "cell_type": "markdown",
   "id": "88f82bf0",
   "metadata": {},
   "source": [
    "<b><font size=\"7\" color=\"red\">ch02. 자료형과 연산자</font></b>\n",
    "# 5절. 연산자\n",
    "## 5.1 산술연산자 : +, -, *, /(결과 float), //(몫), %(나머지), **(제곱)"
   ]
  },
  {
   "cell_type": "code",
   "execution_count": 2,
   "id": "091cbf18",
   "metadata": {
    "ExecuteTime": {
     "end_time": "2025-09-17T06:55:18.778812Z",
     "start_time": "2025-09-17T06:55:18.765571Z"
    }
   },
   "outputs": [
    {
     "name": "stdout",
     "output_type": "stream",
     "text": [
      "10*5승 = 100000\n",
      "5/2(결과 실수) = 2.5\n",
      "5//2(몫) = 2\n",
      "5%2(나머지) = 1\n"
     ]
    }
   ],
   "source": [
    "print(\"10*5승 =\", 10**5)\n",
    "print(\"5/2(결과 실수) =\", 5/2)\n",
    "print(\"5//2(몫) =\", 5//2)\n",
    "print(\"5%2(나머지) =\", 5%2)"
   ]
  },
  {
   "cell_type": "code",
   "execution_count": 3,
   "id": "3a2d88b2",
   "metadata": {
    "ExecuteTime": {
     "end_time": "2025-09-17T06:55:18.794355Z",
     "start_time": "2025-09-17T06:55:18.781797Z"
    }
   },
   "outputs": [
    {
     "name": "stdout",
     "output_type": "stream",
     "text": [
      "4**2 = 16.0\n"
     ]
    }
   ],
   "source": [
    "# 정수끼리 연산은 결과가 정수(단 / 제외)\n",
    "# 정수와 실수, 실수끼리 연산 결과는 실수\n",
    "print(\"4**2 =\", 4**2.0)"
   ]
  },
  {
   "cell_type": "markdown",
   "id": "2b04e4c6",
   "metadata": {
    "ExecuteTime": {
     "end_time": "2025-09-17T06:55:33.227978Z",
     "start_time": "2025-09-17T06:55:18.796348Z"
    }
   },
   "source": [
    "### quiz1. 정수를 입력받아 짝수인지 홀수인지 여부를 출력\n",
    "num = int(input(\"정수를 입력하세요:\"))\n",
    "result = num % 2 # -1, 0, 1\n",
    "if result:\n",
    "    temp = \"홀수\"\n",
    "else:\n",
    "    temp = \"짝수\"\n",
    "print(f\"입력하신 수는 {num}, 2로 나눈 나머지는 {result}라서 {temp}를 입력하셨습니다\")"
   ]
  },
  {
   "cell_type": "code",
   "execution_count": 5,
   "id": "3c0fe27a",
   "metadata": {
    "ExecuteTime": {
     "end_time": "2025-09-17T06:55:35.756201Z",
     "start_time": "2025-09-17T06:55:33.229972Z"
    }
   },
   "outputs": [
    {
     "name": "stdout",
     "output_type": "stream",
     "text": [
      "정수를 입력하세요:13\n",
      "5의 배수가 아닙니다\n"
     ]
    }
   ],
   "source": [
    "# quiz2. 정수를 입력받아 5의 배수인지 여부를 출력\n",
    "num = int(input(\"정수를 입력하세요:\"))\n",
    "if num%5:\n",
    "    print(\"5의 배수가 아닙니다\")\n",
    "else:\n",
    "    print(\"5의 배수입니다\")"
   ]
  },
  {
   "cell_type": "code",
   "execution_count": 6,
   "id": "3e6863cf",
   "metadata": {
    "ExecuteTime": {
     "end_time": "2025-09-17T06:55:37.230969Z",
     "start_time": "2025-09-17T06:55:35.758194Z"
    }
   },
   "outputs": [
    {
     "name": "stdout",
     "output_type": "stream",
     "text": [
      "국어?13\n",
      "영어?13\n",
      "수학?13\n"
     ]
    }
   ],
   "source": [
    "# quiz3. 국, 영, 수 점수를 입력받아 다음셀에서 다음과 같이 출력하도록 구현하시오\n",
    "# 국어 :  99      영어 : 100       수학 : 100\n",
    "# 합계 : 299      평균 :  99.7\n",
    "kor = int(input(\"국어?\"))\n",
    "eng = int(input(\"영어?\"))\n",
    "mat = int(input(\"수학?\"))\n",
    "sum = kor + eng + mat\n",
    "avg = sum / 3"
   ]
  },
  {
   "cell_type": "code",
   "execution_count": 7,
   "id": "0f5b20fd",
   "metadata": {
    "ExecuteTime": {
     "end_time": "2025-09-17T06:55:37.246905Z",
     "start_time": "2025-09-17T06:55:37.233447Z"
    }
   },
   "outputs": [
    {
     "name": "stdout",
     "output_type": "stream",
     "text": [
      "국어 :  13\t영어 :  13\t수학 :  13\n",
      "총점 :  39\t평균 :  13.0\n"
     ]
    }
   ],
   "source": [
    "print(\"국어 : {:3d}\\t영어 : {:3d}\\t수학 : {:3d}\".format(kor, eng, mat))\n",
    "print(\"총점 : {:3d}\\t평균 : {:5.1f}\".format(sum, avg))"
   ]
  },
  {
   "cell_type": "markdown",
   "id": "8e436049",
   "metadata": {},
   "source": [
    "## 5.2 할당연산자 : =, +=, -=, /=, *=, //=, %="
   ]
  },
  {
   "cell_type": "code",
   "execution_count": 8,
   "id": "14cb5865",
   "metadata": {
    "ExecuteTime": {
     "end_time": "2025-09-17T06:55:37.261614Z",
     "start_time": "2025-09-17T06:55:37.249141Z"
    }
   },
   "outputs": [
    {
     "name": "stdout",
     "output_type": "stream",
     "text": [
      "a = 15\n"
     ]
    }
   ],
   "source": [
    "a = 10\n",
    "a += 5 # a = a + 5와 동일\n",
    "print(f\"a = {a}\")"
   ]
  },
  {
   "cell_type": "code",
   "execution_count": 9,
   "id": "d4e35d8a",
   "metadata": {
    "ExecuteTime": {
     "end_time": "2025-09-17T06:55:37.276634Z",
     "start_time": "2025-09-17T06:55:37.263638Z"
    }
   },
   "outputs": [
    {
     "name": "stdout",
     "output_type": "stream",
     "text": [
      "5빼기 : 10\n",
      "10배 : 100\n",
      "5나눈 몫 : 20\n"
     ]
    }
   ],
   "source": [
    "a -= 5 # a = a-5\n",
    "print(\"5빼기 :\", a) # 10\n",
    "a *= 10 # a = a*10\n",
    "print(\"10배 :\", a) #100\n",
    "a //= 5 # a = a//5\n",
    "print(\"5나눈 몫 :\", a)"
   ]
  },
  {
   "cell_type": "markdown",
   "id": "757d5d0b",
   "metadata": {},
   "source": [
    "## 5.3 논리연산자 : &, and, |, or, not"
   ]
  },
  {
   "cell_type": "code",
   "execution_count": 10,
   "id": "a54cfa18",
   "metadata": {
    "ExecuteTime": {
     "end_time": "2025-09-17T06:55:37.292127Z",
     "start_time": "2025-09-17T06:55:37.279614Z"
    }
   },
   "outputs": [
    {
     "name": "stdout",
     "output_type": "stream",
     "text": [
      "True\n",
      "0\n"
     ]
    }
   ],
   "source": [
    "# & : 논리연산자, 비트연산자\n",
    "print( (10>3) & (10>5) ) # 논리연산 True & True\n",
    "print( 12 & 1 ) # 비트 연산  1 1 0 0 (12)\n",
    "                       #    0 0 0 1  (1)\n",
    "                       # &: 0 0 0 0"
   ]
  },
  {
   "cell_type": "code",
   "execution_count": 11,
   "id": "868c1cf6",
   "metadata": {
    "ExecuteTime": {
     "end_time": "2025-09-17T06:55:37.307847Z",
     "start_time": "2025-09-17T06:55:37.295456Z"
    }
   },
   "outputs": [
    {
     "name": "stdout",
     "output_type": "stream",
     "text": [
      "True\n",
      "0\n"
     ]
    }
   ],
   "source": [
    "# and : 논리연산자.  False로 판별되는 첫번째 항의 결과 반환\n",
    "         # 모든 항이 True면, 마지막항의 결과 반환\n",
    "print( (10>3) and (10>5) )\n",
    "print( 0 and 1 ) "
   ]
  },
  {
   "cell_type": "code",
   "execution_count": 12,
   "id": "d65846c9",
   "metadata": {
    "ExecuteTime": {
     "end_time": "2025-09-17T06:55:37.323884Z",
     "start_time": "2025-09-17T06:55:37.314762Z"
    }
   },
   "outputs": [
    {
     "name": "stdout",
     "output_type": "stream",
     "text": [
      "논리연산(연산자 앞뒤에 논리형일 때) : True\n",
      "비트연산(연산자 앞이나 뒤에 숫자일 때) : 3\n"
     ]
    }
   ],
   "source": [
    "# | : 논리연산, 비트연산\n",
    "result = True | False\n",
    "print('논리연산(연산자 앞뒤에 논리형일 때) :', result)\n",
    "result = False | 3 # 0000 (0)\n",
    "                   # 0011 (3)\n",
    "print('비트연산(연산자 앞이나 뒤에 숫자일 때) :', result)"
   ]
  },
  {
   "cell_type": "code",
   "execution_count": 13,
   "id": "23925468",
   "metadata": {
    "ExecuteTime": {
     "end_time": "2025-09-17T06:55:37.339375Z",
     "start_time": "2025-09-17T06:55:37.326348Z"
    }
   },
   "outputs": [
    {
     "name": "stdout",
     "output_type": "stream",
     "text": [
      "[]\n",
      "Hong\n"
     ]
    }
   ],
   "source": [
    "# or : 논리연산. 참으로 판별되는 첫번째 항의 결과 반환\n",
    "          # 모든 항이 거짓이면 마지막항의 결과 반환\n",
    "print(False or 0 or '' or None or [])\n",
    "print(False or 0 or 'Hong' or None or [])"
   ]
  },
  {
   "cell_type": "code",
   "execution_count": 14,
   "id": "a5714809",
   "metadata": {
    "ExecuteTime": {
     "end_time": "2025-09-17T06:55:37.355163Z",
     "start_time": "2025-09-17T06:55:37.341218Z"
    }
   },
   "outputs": [
    {
     "data": {
      "text/plain": [
       "False"
      ]
     },
     "execution_count": 14,
     "metadata": {},
     "output_type": "execute_result"
    }
   ],
   "source": [
    "not 10>5"
   ]
  },
  {
   "cell_type": "markdown",
   "id": "eeb25db3",
   "metadata": {},
   "source": [
    "## 5.4 비교연산자 : >, >=, <, <=, ==(같다), !=(다르다)"
   ]
  },
  {
   "cell_type": "code",
   "execution_count": 15,
   "id": "fe3abb70",
   "metadata": {
    "ExecuteTime": {
     "end_time": "2025-09-17T06:55:37.371227Z",
     "start_time": "2025-09-17T06:55:37.357150Z"
    }
   },
   "outputs": [
    {
     "name": "stdout",
     "output_type": "stream",
     "text": [
      "True\n",
      "True\n",
      "True\n"
     ]
    }
   ],
   "source": [
    "# 비교연산자는 이항, 삼항, 사항, ... 다항연산자\n",
    "x = 95\n",
    "print( (90<=x) & (x<=100) )\n",
    "print( 90 <= x <= 100)\n",
    "print( 90 <= x <= 100 > 10)"
   ]
  },
  {
   "cell_type": "code",
   "execution_count": 16,
   "id": "b3ab97ef",
   "metadata": {
    "ExecuteTime": {
     "end_time": "2025-09-17T06:55:37.386414Z",
     "start_time": "2025-09-17T06:55:37.372206Z"
    }
   },
   "outputs": [
    {
     "name": "stdout",
     "output_type": "stream",
     "text": [
      "True\n",
      "False\n",
      "False\n"
     ]
    }
   ],
   "source": [
    "# 비교연산자의 우선순위가 비트연산자(|,&)의 우선순위보다 낮다\n",
    "print( (10>5) & (10>7) )\n",
    "print( 10>5 & 10>7 ) # 괄호가 없으면 우선순위가 높은 5&10부터 실행\n",
    "print( 10 > 0 > 7)\n",
    "# 0101(5) & 1010(10)"
   ]
  },
  {
   "cell_type": "code",
   "execution_count": 17,
   "id": "fb7ea7f4",
   "metadata": {
    "ExecuteTime": {
     "end_time": "2025-09-17T06:55:37.402335Z",
     "start_time": "2025-09-17T06:55:37.388268Z"
    }
   },
   "outputs": [
    {
     "name": "stdout",
     "output_type": "stream",
     "text": [
      "True\n",
      "True\n"
     ]
    }
   ],
   "source": [
    "address = \"목동\"\n",
    "age = 29\n",
    "# print( address==\"목동\" & age<=30 )\n",
    "print( (address==\"목동\") & (age<=30) )\n",
    "print( address==\"목동\" and age<=30 )"
   ]
  },
  {
   "cell_type": "code",
   "execution_count": 18,
   "id": "d62a3703",
   "metadata": {
    "ExecuteTime": {
     "end_time": "2025-09-17T06:55:37.417747Z",
     "start_time": "2025-09-17T06:55:37.403527Z"
    }
   },
   "outputs": [
    {
     "data": {
      "text/plain": [
       "True"
      ]
     },
     "execution_count": 18,
     "metadata": {},
     "output_type": "execute_result"
    }
   ],
   "source": [
    "# 문자는 ASCII 코드 순으로 비교 : 특수문자 < 숫자문자 < 대문자 < 소문자(abc순)\n",
    "\"scott\" < \"tiger\""
   ]
  },
  {
   "cell_type": "code",
   "execution_count": 19,
   "id": "7742cbf0",
   "metadata": {
    "ExecuteTime": {
     "end_time": "2025-09-17T06:55:37.433079Z",
     "start_time": "2025-09-17T06:55:37.419820Z"
    }
   },
   "outputs": [
    {
     "data": {
      "text/plain": [
       "True"
      ]
     },
     "execution_count": 19,
     "metadata": {},
     "output_type": "execute_result"
    }
   ],
   "source": [
    "\"김길동\" < \"홍길동\""
   ]
  },
  {
   "cell_type": "markdown",
   "id": "2b606d68",
   "metadata": {},
   "source": [
    "## 5.5 비트연산 : &, |, ^(XOR), ~(반대)\n",
    "\n",
    "```\n",
    "x    y    x&y    x|y    x^y    ~x\n",
    "---------------------------------\n",
    "0    0     0      0      0     1\n",
    "0    1     0      1      1     1\n",
    "1    0     0      1      1     0\n",
    "1    1     1      1      0     0\n",
    "\n",
    "```"
   ]
  },
  {
   "cell_type": "code",
   "execution_count": 20,
   "id": "8173b8e4",
   "metadata": {
    "ExecuteTime": {
     "end_time": "2025-09-17T06:55:37.450032Z",
     "start_time": "2025-09-17T06:55:37.434877Z"
    }
   },
   "outputs": [
    {
     "name": "stdout",
     "output_type": "stream",
     "text": [
      "  a = 15 : 1111\n",
      "  b =  2 : 0010\n",
      "a&b =  2 : 0010\n",
      "a|b = 15 : 1111\n",
      "a^b = 13 : 1101\n",
      "-16\n"
     ]
    }
   ],
   "source": [
    "a = 15 # 1111(8+4+2+1)\n",
    "b =  2 # 0010\n",
    "print(\"  a = {0:2} : {0:04b}\".format(a))\n",
    "print(\"  b = {0:2} : {0:04b}\".format(b))\n",
    "print(\"a&b = {0:2} : {0:04b}\".format(a&b))\n",
    "print(\"a|b = {0:2} : {0:04b}\".format(a|b))\n",
    "print(\"a^b = {0:2} : {0:04b}\".format(a^b))\n",
    "print(~a)"
   ]
  },
  {
   "cell_type": "markdown",
   "id": "04687b23",
   "metadata": {},
   "source": [
    "# 6절 문자열 다루기\n",
    "- 문자열변수[from:to:step] : 일부 문자 추출\n",
    "- len(문자열변수) : 문자수\n",
    "\n",
    "- upper() : 대문자로\n",
    "- lower() : 소문자로\n",
    "- title() : 각 어절의 앞글자만 대문자로\n",
    "- capitalize() : 첫문자만 대문자로\n",
    "- count(\"찾을문자\") : \"찾을문자\"가 몇개 들어있는지 갯수 반환\n",
    "- find(\"찾을문자\") : \"찾을문자\"가 왼쪽부터 몇번째에 있는지 index를 반환 (없으면 -1)\n",
    "- rfind(\"찾을문자\") : \"찾을문자\"가 오른쪽부터 몇번째에 있는지 index를 반환(없으면 -1)\n",
    "\n",
    "  cf. index(\"찾을문자\") : 찾을문자가 왼쪽부터 몇번째에 있는 index를 반환(없으면 에러)\n",
    "  \n",
    "  \n",
    "- startswith(\"특정문자\") : \"특정문자\"로 시작하는지 여부 반환\n",
    "- endswith(\"특정문자\")   : \"특정문자\"로 끝나는지 여부 반환\n",
    "\n",
    "- strip() : 좌우공백제거(trim)\n",
    "- lstrip() : 왼쪽 공백 제거\n",
    "- rstrip() : 오른쪽 공백 제거\n",
    "- <span style=\"color:red\">**split() : 문자열을 공백이나 다른 문자 기준으로 나누어 리스트로 반환**</span>\n",
    "- isdigit() : 문자열이 숫자문자열인지 여부 반환\n",
    "- islower() : 문자열이 소문자인지 여부 반환\n",
    "- isupper() : 문자열이 대문자인지 여부 반환\n",
    "- replace(oldStr, newStr) : oldStr을 newStr로 변경"
   ]
  },
  {
   "cell_type": "code",
   "execution_count": 21,
   "id": "dd3a4ed7",
   "metadata": {
    "ExecuteTime": {
     "end_time": "2025-09-17T06:55:37.465283Z",
     "start_time": "2025-09-17T06:55:37.452331Z"
    }
   },
   "outputs": [
    {
     "data": {
      "text/plain": [
       "('python is easy. python is smart. python', 39)"
      ]
     },
     "execution_count": 21,
     "metadata": {},
     "output_type": "execute_result"
    }
   ],
   "source": [
    "temp = \"python is easy. python is smart. python\"\n",
    "temp, len(temp)"
   ]
  },
  {
   "cell_type": "code",
   "execution_count": 22,
   "id": "b4628e5f",
   "metadata": {
    "ExecuteTime": {
     "end_time": "2025-09-17T06:55:37.481033Z",
     "start_time": "2025-09-17T06:55:37.467230Z"
    }
   },
   "outputs": [
    {
     "name": "stdout",
     "output_type": "stream",
     "text": [
      "대문자로 : PYTHON IS EASY. PYTHON IS SMART. PYTHON\n",
      "소문자로 : python is easy. python is smart. python\n",
      "title() : Python Is Easy. Python Is Smart. Python\n",
      "capitalize() : Python is easy. python is smart. python\n",
      "C이 몇번 나오는지 : 0\n",
      "python이 몇번 나오는지 : 2\n",
      "대소문자 구분없이 python이 몇번 : 3\n",
      "대소문자 구분없이 python이 몇번 : 3\n",
      "대소문자 구분없이 python이 몇번 : 3\n",
      "python이 나오는 첫index 위치 : 0\n",
      "python이 나오는 마지막 index 위치 : 33\n",
      "C가 나오는 index위치 : -1\n",
      "python이 나오는 첫 index 위치 : 0\n",
      "python으로 시작하는 여부 : True\n",
      "대소문자 구분없이 python으로 시작하는 여부 : True\n",
      "python으로 끝나는지 여부 : True\n",
      "n으로 끝나는지 여부 : True\n",
      "python을 R로 변경 : R is easy. Python is smart. R\n",
      "python is easy. Python is smart. python\n"
     ]
    }
   ],
   "source": [
    "temp = \"python is easy. Python is smart. python\"\n",
    "    #   0123456789012345687901234567890123\n",
    "print(\"대문자로 :\", temp.upper())\n",
    "print(\"소문자로 :\", temp.lower())\n",
    "print(\"title() :\", temp.title())\n",
    "print(\"capitalize() :\", temp.capitalize())\n",
    "print(\"C이 몇번 나오는지 :\", temp.count(\"C\"))\n",
    "print(\"python이 몇번 나오는지 :\", temp.count(\"python\"))\n",
    "print(\"대소문자 구분없이 python이 몇번 :\", temp.lower().count(\"python\"))\n",
    "print(\"대소문자 구분없이 python이 몇번 :\", temp.upper().count(\"PYTHON\"))\n",
    "print(\"대소문자 구분없이 python이 몇번 :\", temp.title().count(\"Python\"))\n",
    "print(\"python이 나오는 첫index 위치 :\", temp.find(\"python\"))\n",
    "print(\"python이 나오는 마지막 index 위치 :\", temp.rfind(\"python\"))\n",
    "print(\"C가 나오는 index위치 :\", temp.find(\"C\")) # 찾을문자가 없을 경우 -1\n",
    "print(\"python이 나오는 첫 index 위치 :\", temp.index(\"python\"))\n",
    "# print(\"java이 나오는 첫 index 위치 :\", temp.index(\"java\")) 찾을문자가 없을 경우 에러\n",
    "print(\"python으로 시작하는 여부 :\",  temp.startswith(\"python\"))\n",
    "print(\"대소문자 구분없이 python으로 시작하는 여부 :\",  temp.lower().startswith(\"python\"))\n",
    "print(\"python으로 끝나는지 여부 :\", temp.endswith(\"python\"))\n",
    "print(\"n으로 끝나는지 여부 :\", temp.endswith(\"n\"))\n",
    "print(\"python을 R로 변경 :\", temp.replace(\"python\", \"R\"))\n",
    "print(temp)"
   ]
  },
  {
   "cell_type": "code",
   "execution_count": 23,
   "id": "0b54568d",
   "metadata": {
    "ExecuteTime": {
     "end_time": "2025-09-17T06:55:37.497977Z",
     "start_time": "2025-09-17T06:55:37.483028Z"
    }
   },
   "outputs": [
    {
     "name": "stdout",
     "output_type": "stream",
     "text": [
      "좌우 공백 제거 : [python is easy]\n",
      "왼쪽 공백 제거 : [python is easy    ]\n",
      "오른쪽 공백 제거 : [    python is easy]\n",
      "isdigit(숫자문자)인지 여부 : False\n",
      "replace후 isdigit : True\n",
      "대문자인지 여부 : False\n",
      "소문자인지 여부 : True\n"
     ]
    }
   ],
   "source": [
    "temp = \"    python is easy    \"\n",
    "notdigit = \"1,000\"\n",
    "print(\"좌우 공백 제거 : [{}]\".format(temp.strip()) )\n",
    "print(\"왼쪽 공백 제거 : [{}]\".format(temp.lstrip()) )\n",
    "print(\"오른쪽 공백 제거 : [{}]\".format(temp.rstrip()) )\n",
    "print(\"isdigit(숫자문자)인지 여부 :\", notdigit.isdigit())\n",
    "print(\"replace후 isdigit :\", notdigit.replace(\",\", \"\").isdigit())\n",
    "print(\"대문자인지 여부 :\", temp.isupper())\n",
    "print(\"소문자인지 여부 :\", temp.islower())"
   ]
  },
  {
   "cell_type": "code",
   "execution_count": 24,
   "id": "0deff5f6",
   "metadata": {
    "ExecuteTime": {
     "end_time": "2025-09-17T06:55:37.511202Z",
     "start_time": "2025-09-17T06:55:37.500197Z"
    }
   },
   "outputs": [
    {
     "name": "stdout",
     "output_type": "stream",
     "text": [
      "space단위로 names 분리(list로 반환) : ['홍길동', '김길동', '박길동', '주길동', '고길동']\n",
      "홍길동 김길동\n"
     ]
    }
   ],
   "source": [
    "names = \"홍길동 김길동      박길동 주길동 고길동\"\n",
    "name_list = names.split()\n",
    "print(\"space단위로 names 분리(list로 반환) :\", name_list)\n",
    "print(name_list[0], name_list[1])"
   ]
  },
  {
   "cell_type": "code",
   "execution_count": 25,
   "id": "7e9991b8",
   "metadata": {
    "ExecuteTime": {
     "end_time": "2025-09-17T06:55:37.526670Z",
     "start_time": "2025-09-17T06:55:37.513196Z"
    }
   },
   "outputs": [
    {
     "name": "stdout",
     "output_type": "stream",
     "text": [
      "['2025', '09', '17']\n",
      "년도 : 2025\n",
      "월 : 09\n",
      "일 : 17\n"
     ]
    }
   ],
   "source": [
    "date_str = \"2025-09-17\"\n",
    "date_list = date_str.split(\"-\")\n",
    "print(date_list)\n",
    "print(\"년도 :\", date_list[0])\n",
    "print(\"월 :\", date_list[1])\n",
    "print(\"일 :\", date_list[2])"
   ]
  },
  {
   "cell_type": "code",
   "execution_count": 26,
   "id": "fe5e0710",
   "metadata": {
    "ExecuteTime": {
     "end_time": "2025-09-17T06:55:37.542179Z",
     "start_time": "2025-09-17T06:55:37.528823Z"
    }
   },
   "outputs": [
    {
     "data": {
      "text/plain": [
       "('A', 'B', 'C')"
      ]
     },
     "execution_count": 26,
     "metadata": {},
     "output_type": "execute_result"
    }
   ],
   "source": [
    "# str_ = \"ABC\"\n",
    "str_ = [\"A\", \"B\", \"C\"]\n",
    "str_[0], str_[1], str_[2]"
   ]
  },
  {
   "cell_type": "code",
   "execution_count": 27,
   "id": "7ebc0b0a",
   "metadata": {
    "ExecuteTime": {
     "end_time": "2025-09-17T06:55:37.557470Z",
     "start_time": "2025-09-17T06:55:37.543773Z"
    }
   },
   "outputs": [
    {
     "name": "stdout",
     "output_type": "stream",
     "text": [
      "분리된 temp : ['Python', '웹(HTML/CSS/JS)', 'Oracle/MySQL(DBMS)', 'DL/ML', 'LLM(RAG)']\n",
      "join temp : Python/웹(HTML/CSS/JS)/Oracle/MySQL(DBMS)/DL/ML/LLM(RAG)\n"
     ]
    }
   ],
   "source": [
    "# ' - '을 \"/\"로 바꾸기\n",
    "temp = \"Python - 웹(HTML/CSS/JS) - Oracle/MySQL(DBMS) - DL/ML - LLM(RAG)\"\n",
    "# temp.replace(\" - \", \"/\")\n",
    "# split()와 join() 이용하여 replace역할\n",
    "splited_temp = temp.split(\" - \")\n",
    "print('분리된 temp :', splited_temp)\n",
    "joined_temp = \"/\".join(splited_temp) # \"/\"로 매개변수 list를 연결\n",
    "print(\"join temp :\", joined_temp)"
   ]
  },
  {
   "cell_type": "code",
   "execution_count": 28,
   "id": "2ed2c724",
   "metadata": {
    "ExecuteTime": {
     "end_time": "2025-09-17T06:55:37.573488Z",
     "start_time": "2025-09-17T06:55:37.560505Z"
    }
   },
   "outputs": [
    {
     "data": {
      "text/plain": [
       "['__add__',\n",
       " '__class__',\n",
       " '__contains__',\n",
       " '__delattr__',\n",
       " '__dir__',\n",
       " '__doc__',\n",
       " '__eq__',\n",
       " '__format__',\n",
       " '__ge__',\n",
       " '__getattribute__',\n",
       " '__getitem__',\n",
       " '__getnewargs__',\n",
       " '__gt__',\n",
       " '__hash__',\n",
       " '__init__',\n",
       " '__init_subclass__',\n",
       " '__iter__',\n",
       " '__le__',\n",
       " '__len__',\n",
       " '__lt__',\n",
       " '__mod__',\n",
       " '__mul__',\n",
       " '__ne__',\n",
       " '__new__',\n",
       " '__reduce__',\n",
       " '__reduce_ex__',\n",
       " '__repr__',\n",
       " '__rmod__',\n",
       " '__rmul__',\n",
       " '__setattr__',\n",
       " '__sizeof__',\n",
       " '__str__',\n",
       " '__subclasshook__',\n",
       " 'capitalize',\n",
       " 'casefold',\n",
       " 'center',\n",
       " 'count',\n",
       " 'encode',\n",
       " 'endswith',\n",
       " 'expandtabs',\n",
       " 'find',\n",
       " 'format',\n",
       " 'format_map',\n",
       " 'index',\n",
       " 'isalnum',\n",
       " 'isalpha',\n",
       " 'isascii',\n",
       " 'isdecimal',\n",
       " 'isdigit',\n",
       " 'isidentifier',\n",
       " 'islower',\n",
       " 'isnumeric',\n",
       " 'isprintable',\n",
       " 'isspace',\n",
       " 'istitle',\n",
       " 'isupper',\n",
       " 'join',\n",
       " 'ljust',\n",
       " 'lower',\n",
       " 'lstrip',\n",
       " 'maketrans',\n",
       " 'partition',\n",
       " 'removeprefix',\n",
       " 'removesuffix',\n",
       " 'replace',\n",
       " 'rfind',\n",
       " 'rindex',\n",
       " 'rjust',\n",
       " 'rpartition',\n",
       " 'rsplit',\n",
       " 'rstrip',\n",
       " 'split',\n",
       " 'splitlines',\n",
       " 'startswith',\n",
       " 'strip',\n",
       " 'swapcase',\n",
       " 'title',\n",
       " 'translate',\n",
       " 'upper',\n",
       " 'zfill']"
      ]
     },
     "execution_count": 28,
     "metadata": {},
     "output_type": "execute_result"
    }
   ],
   "source": [
    "# 문자열을 다룰 수 있는 함수들 목록\n",
    "dir(str)"
   ]
  },
  {
   "cell_type": "markdown",
   "id": "dfb81f98",
   "metadata": {},
   "source": [
    "# 7절. 시간,날짜 다루기"
   ]
  },
  {
   "cell_type": "code",
   "execution_count": 29,
   "id": "3b6c8ed6",
   "metadata": {
    "ExecuteTime": {
     "end_time": "2025-09-17T06:55:37.588873Z",
     "start_time": "2025-09-17T06:55:37.576542Z"
    }
   },
   "outputs": [
    {
     "data": {
      "text/plain": [
       "'C:\\\\Users\\\\Admin\\\\anaconda3\\\\lib\\\\datetime.py'"
      ]
     },
     "execution_count": 29,
     "metadata": {},
     "output_type": "execute_result"
    }
   ],
   "source": [
    "import datetime\n",
    "datetime.__file__"
   ]
  },
  {
   "cell_type": "code",
   "execution_count": 30,
   "id": "026c2097",
   "metadata": {
    "ExecuteTime": {
     "end_time": "2025-09-17T06:55:37.604283Z",
     "start_time": "2025-09-17T06:55:37.591062Z"
    }
   },
   "outputs": [],
   "source": [
    "# datetime모듈(datetime.py)안의 datetime, date, time만 load\n",
    "from datetime import datetime, date, time"
   ]
  },
  {
   "cell_type": "markdown",
   "id": "2e1a86c6",
   "metadata": {},
   "source": [
    "## 7.1 시간과 날짜"
   ]
  },
  {
   "cell_type": "code",
   "execution_count": 31,
   "id": "d96918f6",
   "metadata": {
    "ExecuteTime": {
     "end_time": "2025-09-17T06:55:37.619561Z",
     "start_time": "2025-09-17T06:55:37.607311Z"
    }
   },
   "outputs": [
    {
     "data": {
      "text/plain": [
       "datetime.datetime(2025, 9, 11, 9, 30)"
      ]
     },
     "execution_count": 31,
     "metadata": {},
     "output_type": "execute_result"
    }
   ],
   "source": [
    "# 특정 시점을 갖는 datetime 객체 생성\n",
    "thatday = datetime(2025, 9, 11, 9, 30)\n",
    "thatday"
   ]
  },
  {
   "cell_type": "code",
   "execution_count": 32,
   "id": "ffdd851c",
   "metadata": {
    "ExecuteTime": {
     "end_time": "2025-09-17T06:55:37.635307Z",
     "start_time": "2025-09-17T06:55:37.622562Z"
    }
   },
   "outputs": [
    {
     "name": "stdout",
     "output_type": "stream",
     "text": [
      "25년09월11일(Thursday) 09:30:00\n",
      "25년09월11일(Thursday) 09:30:00\n",
      "Thu Sep 11 09:30:00 2025\n"
     ]
    }
   ],
   "source": [
    "# 날짜를 문자열로 전환\n",
    "print(\"{:%y년%m월%d일(%A) %H:%M:%S}\".format(thatday))\n",
    "print(thatday.strftime(\"%y년%m월%d일(%A) %H:%M:%S\"))\n",
    "print(thatday.ctime()) # ctime() : 사람이 읽기 쉬는 형태로 convert"
   ]
  },
  {
   "cell_type": "code",
   "execution_count": 33,
   "id": "4cb20ca1",
   "metadata": {
    "ExecuteTime": {
     "end_time": "2025-09-17T06:55:37.656004Z",
     "start_time": "2025-09-17T06:55:37.637446Z"
    }
   },
   "outputs": [
    {
     "name": "stdout",
     "output_type": "stream",
     "text": [
      "2025-09-17 15:55:37.640771\n",
      "Wed Sep 17 15:55:37 2025\n",
      "2025년09월17일 PM 03:55:37\n"
     ]
    }
   ],
   "source": [
    "# 지금을 저장하는 datetime 객체 생성\n",
    "now = datetime.now()\n",
    "print(now)\n",
    "print(now.ctime())\n",
    "print(now.strftime(\"%Y년%m월%d일 %p %I:%M:%S\"))"
   ]
  },
  {
   "cell_type": "code",
   "execution_count": 34,
   "id": "0f8985c7",
   "metadata": {
    "ExecuteTime": {
     "end_time": "2025-09-17T06:55:37.671218Z",
     "start_time": "2025-09-17T06:55:37.658952Z"
    }
   },
   "outputs": [
    {
     "name": "stdout",
     "output_type": "stream",
     "text": [
      "6 days, 6:25:37.640771\n",
      "6\n"
     ]
    }
   ],
   "source": [
    "diff = now-thatday\n",
    "print(diff)\n",
    "print(diff.days)"
   ]
  },
  {
   "cell_type": "markdown",
   "id": "a2117315",
   "metadata": {},
   "source": [
    "## 7.2 날짜"
   ]
  },
  {
   "cell_type": "code",
   "execution_count": 35,
   "id": "a3d81753",
   "metadata": {
    "ExecuteTime": {
     "end_time": "2025-09-17T06:55:37.686831Z",
     "start_time": "2025-09-17T06:55:37.675025Z"
    }
   },
   "outputs": [
    {
     "data": {
      "text/plain": [
       "datetime.date(2025, 9, 11)"
      ]
     },
     "execution_count": 35,
     "metadata": {},
     "output_type": "execute_result"
    }
   ],
   "source": [
    "# 특정한 날짜를 갖는 date 객체 생성\n",
    "someday = date(2025, 9, 11)\n",
    "someday"
   ]
  },
  {
   "cell_type": "code",
   "execution_count": 36,
   "id": "9b2f2faf",
   "metadata": {
    "ExecuteTime": {
     "end_time": "2025-09-17T06:55:37.702767Z",
     "start_time": "2025-09-17T06:55:37.689782Z"
    }
   },
   "outputs": [
    {
     "name": "stdout",
     "output_type": "stream",
     "text": [
      "2025-09-11\n",
      "2025년 09월 11일 00:00\n"
     ]
    }
   ],
   "source": [
    "print(someday)\n",
    "print(someday.strftime(\"%Y년 %m월 %d일 %H:%M\"))"
   ]
  },
  {
   "cell_type": "code",
   "execution_count": 37,
   "id": "abc259c9",
   "metadata": {
    "ExecuteTime": {
     "end_time": "2025-09-17T06:55:37.718575Z",
     "start_time": "2025-09-17T06:55:37.707720Z"
    }
   },
   "outputs": [
    {
     "name": "stdout",
     "output_type": "stream",
     "text": [
      "True\n"
     ]
    }
   ],
   "source": [
    "# 오늘을 갖는 date 객체 생성\n",
    "today1 = date.today()\n",
    "today2 = datetime.now().date()\n",
    "print(today1 == today2)"
   ]
  },
  {
   "cell_type": "code",
   "execution_count": 38,
   "id": "840e2d8e",
   "metadata": {
    "ExecuteTime": {
     "end_time": "2025-09-17T06:55:37.733968Z",
     "start_time": "2025-09-17T06:55:37.721535Z"
    }
   },
   "outputs": [
    {
     "name": "stdout",
     "output_type": "stream",
     "text": [
      "2025년09월17일 00:00\n",
      "2025년09월17일 00:00\n"
     ]
    }
   ],
   "source": [
    "print(today1.strftime(\"%Y년%m월%d일 %H:%M\"))\n",
    "print(today2.strftime(\"%Y년%m월%d일 %H:%M\"))"
   ]
  },
  {
   "cell_type": "code",
   "execution_count": 39,
   "id": "31888f26",
   "metadata": {
    "ExecuteTime": {
     "end_time": "2025-09-17T06:55:37.764459Z",
     "start_time": "2025-09-17T06:55:37.747890Z"
    }
   },
   "outputs": [
    {
     "name": "stdout",
     "output_type": "stream",
     "text": [
      "-6 days, 0:00:00\n",
      "-6\n"
     ]
    }
   ],
   "source": [
    "diff = someday - today1\n",
    "print(diff)\n",
    "print(diff.days)"
   ]
  },
  {
   "cell_type": "markdown",
   "id": "a8f79768",
   "metadata": {},
   "source": [
    "## 7.3 시간"
   ]
  },
  {
   "cell_type": "code",
   "execution_count": 40,
   "id": "c5e35de3",
   "metadata": {
    "ExecuteTime": {
     "end_time": "2025-09-17T06:55:37.780146Z",
     "start_time": "2025-09-17T06:55:37.766416Z"
    }
   },
   "outputs": [
    {
     "data": {
      "text/plain": [
       "datetime.time(14, 39)"
      ]
     },
     "execution_count": 40,
     "metadata": {},
     "output_type": "execute_result"
    }
   ],
   "source": [
    "# 특정한 시간을 저장하는 time 객체 생성\n",
    "t = time(14, 39, 0)\n",
    "t"
   ]
  },
  {
   "cell_type": "code",
   "execution_count": 41,
   "id": "c2c763d6",
   "metadata": {
    "ExecuteTime": {
     "end_time": "2025-09-17T06:55:37.796526Z",
     "start_time": "2025-09-17T06:55:37.782137Z"
    }
   },
   "outputs": [
    {
     "name": "stdout",
     "output_type": "stream",
     "text": [
      "PM 02:39\n"
     ]
    }
   ],
   "source": [
    "# print(t.strftime(\"%Y년 %m월 %d일 %p %I:%M\"))\n",
    "print(t.strftime(\"%p %I:%M\"))"
   ]
  },
  {
   "cell_type": "code",
   "execution_count": 42,
   "id": "e8cccbef",
   "metadata": {
    "ExecuteTime": {
     "end_time": "2025-09-17T06:55:37.813277Z",
     "start_time": "2025-09-17T06:55:37.799562Z"
    }
   },
   "outputs": [
    {
     "name": "stdout",
     "output_type": "stream",
     "text": [
      "15:55:37.801556\n"
     ]
    }
   ],
   "source": [
    "# 현재 시간\n",
    "nowtime = datetime.now().time()\n",
    "print(nowtime)"
   ]
  },
  {
   "cell_type": "markdown",
   "id": "d415f143",
   "metadata": {},
   "source": [
    "# 8절. 연습문제"
   ]
  },
  {
   "cell_type": "code",
   "execution_count": 43,
   "id": "d0de1066",
   "metadata": {
    "ExecuteTime": {
     "end_time": "2025-09-17T06:55:37.828815Z",
     "start_time": "2025-09-17T06:55:37.815271Z"
    }
   },
   "outputs": [
    {
     "name": "stdout",
     "output_type": "stream",
     "text": [
      "홍길동님의 나이는  23살입니다\n",
      "홍길동님의 나이는 23살입니다\n",
      "홍길동님의 나이는 23살입니다\n",
      "홍길동님의 나이는 23살입니다\n"
     ]
    }
   ],
   "source": [
    "# 1.이름과 나이 변수를 다음 형식으로 출력하도록 format() 함수를 이용해 형식화하세요\n",
    "# [출력형식 : 홍길동님의 나이는 23살입니다]\n",
    "name = '홍길동'\n",
    "age = 23\n",
    "print('{}님의 나이는 {:3}살입니다'.format(name, age))\n",
    "print('{0}님의 나이는 {1}살입니다'.format(name, age))\n",
    "print('%s님의 나이는 %d살입니다'% (name, age))\n",
    "print(f'{name}님의 나이는 {age}살입니다')"
   ]
  },
  {
   "cell_type": "code",
   "execution_count": 44,
   "id": "a8f3d7ca",
   "metadata": {
    "ExecuteTime": {
     "end_time": "2025-09-17T06:55:44.029887Z",
     "start_time": "2025-09-17T06:55:37.830813Z"
    }
   },
   "outputs": [
    {
     "name": "stdout",
     "output_type": "stream",
     "text": [
      "첫번째 수13\n",
      "두번째 수13\n",
      "num1 + num2 =  26\n",
      "num1 - num2 =  0\n",
      "num1 * num2 =  169\n",
      "num1 / num2 =  1.0\n",
      "num1 // num2 =  1\n",
      "num1 % num2 =  0\n"
     ]
    }
   ],
   "source": [
    "# 2 두 정수입력받아 산술연산결과 출력\n",
    "num1 = int(input('첫번째 수'))\n",
    "num2 = int(input('두번째 수'))\n",
    "print('num1 + num2 = ', (num1+num2))\n",
    "print('num1 - num2 = ', (num1-num2))\n",
    "print('num1 * num2 = ', (num1*num2))\n",
    "print('num1 / num2 = ', (num1/num2))\n",
    "print('num1 // num2 = ', (num1//num2))\n",
    "print('num1 % num2 = ', (num1%num2))"
   ]
  },
  {
   "cell_type": "code",
   "execution_count": 45,
   "id": "6815568e",
   "metadata": {
    "ExecuteTime": {
     "end_time": "2025-09-17T06:55:44.044820Z",
     "start_time": "2025-09-17T06:55:44.032230Z"
    }
   },
   "outputs": [
    {
     "name": "stdout",
     "output_type": "stream",
     "text": [
      "World Hello\n"
     ]
    }
   ],
   "source": [
    "# 3. 문자열의 분리하기와 합치기 기능을 이용하여 ‘Hello 가 할당된 변수를 이용하여 ‘World 로 출력하세요\n",
    "\n",
    "message = \"Hello World\"\n",
    "splited_message = message.split()\n",
    "print(splited_message[1], splited_message[0])"
   ]
  },
  {
   "cell_type": "code",
   "execution_count": 46,
   "id": "badff6c2",
   "metadata": {
    "ExecuteTime": {
     "end_time": "2025-09-17T06:55:44.060242Z",
     "start_time": "2025-09-17T06:55:44.047436Z"
    }
   },
   "outputs": [
    {
     "name": "stdout",
     "output_type": "stream",
     "text": [
      "['World', 'Hello']\n",
      "World Hello\n"
     ]
    }
   ],
   "source": [
    "print(splited_message[::-1])\n",
    "print(' '.join(splited_message[::-1]))"
   ]
  },
  {
   "cell_type": "code",
   "execution_count": 57,
   "id": "9d84cc6c",
   "metadata": {
    "ExecuteTime": {
     "end_time": "2025-09-17T06:58:35.525576Z",
     "start_time": "2025-09-17T06:58:35.512997Z"
    }
   },
   "outputs": [
    {
     "name": "stdout",
     "output_type": "stream",
     "text": [
      "bcdeff\n"
     ]
    }
   ],
   "source": [
    "# 4. x = ' abcdef ＇를 이용하여 bcdefa 로 출력하세요 문자 슬라이싱이용\n",
    "\n",
    "x = 'abcdef'\n",
    "print(x[1:] + x[:1]) \n"
   ]
  },
  {
   "cell_type": "code",
   "execution_count": 48,
   "id": "30ee2140",
   "metadata": {
    "ExecuteTime": {
     "end_time": "2025-09-17T06:55:44.090970Z",
     "start_time": "2025-09-17T06:55:44.078313Z"
    }
   },
   "outputs": [
    {
     "name": "stdout",
     "output_type": "stream",
     "text": [
      "fedcba\n"
     ]
    }
   ],
   "source": [
    "# 5. x = ‘abcdef' 를 이용하여 fedcba 로 출력하세요\n",
    "\n",
    "x= 'abcdef'\n",
    "print(x[::-1])  \n"
   ]
  },
  {
   "cell_type": "code",
   "execution_count": null,
   "id": "7f270d36",
   "metadata": {
    "ExecuteTime": {
     "start_time": "2025-09-17T07:01:19.495Z"
    }
   },
   "outputs": [],
   "source": [
    "#6. \n",
    "\n",
    "c = float(input('섭씨 온도를 입력해주세요: '))\n",
    "f = (c * 1.8) + 32\n",
    "\n",
    "if f.is_integer():\n",
    "    print(f\"화씨 온도는 {int(f)} 입니다\")\n",
    "else:\n",
    "    print(f\"화씨 온도는 {f:.2f} 입니다\")\n"
   ]
  },
  {
   "cell_type": "code",
   "execution_count": null,
   "id": "d6510d05",
   "metadata": {
    "ExecuteTime": {
     "end_time": "2025-09-17T06:55:44.107085Z",
     "start_time": "2025-09-17T06:55:44.107085Z"
    }
   },
   "outputs": [],
   "source": [
    "#7. \n",
    "1,2,3"
   ]
  },
  {
   "cell_type": "code",
   "execution_count": null,
   "id": "36028e7d",
   "metadata": {
    "ExecuteTime": {
     "end_time": "2025-09-17T06:55:44.109080Z",
     "start_time": "2025-09-17T06:55:44.109080Z"
    }
   },
   "outputs": [],
   "source": [
    "#8\n",
    "SeounSeoul\n",
    "Seou n Seoul"
   ]
  },
  {
   "cell_type": "code",
   "execution_count": null,
   "id": "3675169d",
   "metadata": {
    "ExecuteTime": {
     "end_time": "2025-09-17T06:55:44.110076Z",
     "start_time": "2025-09-17T06:55:44.110076Z"
    }
   },
   "outputs": [],
   "source": [
    "#9\n",
    "2"
   ]
  },
  {
   "cell_type": "code",
   "execution_count": null,
   "id": "48079be6",
   "metadata": {
    "ExecuteTime": {
     "end_time": "2025-09-17T06:55:44.112068Z",
     "start_time": "2025-09-17T06:55:44.112068Z"
    }
   },
   "outputs": [],
   "source": [
    "#10\n",
    "x = 5\n",
    "y = \"john\"\n",
    "print(x + y)\n"
   ]
  },
  {
   "cell_type": "code",
   "execution_count": null,
   "id": "72b41ccb",
   "metadata": {
    "ExecuteTime": {
     "end_time": "2025-09-17T06:55:44.114064Z",
     "start_time": "2025-09-17T06:55:44.114064Z"
    }
   },
   "outputs": [],
   "source": [
    "#11\n",
    "str_ = \"우리 나라 대한 민국\"\n",
    "sentence = str_.split()\n",
    "print(sentence[1])"
   ]
  },
  {
   "cell_type": "code",
   "execution_count": 2,
   "id": "d7d51560",
   "metadata": {
    "ExecuteTime": {
     "end_time": "2025-09-17T07:10:39.010225Z",
     "start_time": "2025-09-17T07:10:38.994412Z"
    }
   },
   "outputs": [
    {
     "name": "stdout",
     "output_type": "stream",
     "text": [
      "홍길동님의 나이는 23입니다\n"
     ]
    }
   ],
   "source": [
    "age = 23\n",
    "name = \"홍길동\"\n",
    "\n",
    "print(f\"{name}님의 나이는 {age}입니다\")"
   ]
  },
  {
   "cell_type": "code",
   "execution_count": 2,
   "id": "afcea66a",
   "metadata": {
    "ExecuteTime": {
     "end_time": "2025-09-17T07:13:23.399265Z",
     "start_time": "2025-09-17T07:13:23.393294Z"
    }
   },
   "outputs": [
    {
     "name": "stdout",
     "output_type": "stream",
     "text": [
      "Hello\n"
     ]
    }
   ],
   "source": [
    "message = \"Hello World\"\n",
    "spirit_massage = message.split()\n",
    "print(spirit_massage[0])"
   ]
  },
  {
   "cell_type": "code",
   "execution_count": 9,
   "id": "a2d85640",
   "metadata": {
    "ExecuteTime": {
     "end_time": "2025-09-17T07:16:10.756857Z",
     "start_time": "2025-09-17T07:16:10.738388Z"
    }
   },
   "outputs": [
    {
     "name": "stdout",
     "output_type": "stream",
     "text": [
      "bcdefa\n"
     ]
    }
   ],
   "source": [
    "x= \"abcdef\"\n",
    "print(x[1:]+x[:1])"
   ]
  },
  {
   "cell_type": "code",
   "execution_count": 10,
   "id": "845a6e49",
   "metadata": {
    "ExecuteTime": {
     "end_time": "2025-09-17T07:16:31.803091Z",
     "start_time": "2025-09-17T07:16:31.789405Z"
    }
   },
   "outputs": [
    {
     "name": "stdout",
     "output_type": "stream",
     "text": [
      "fedcba\n"
     ]
    }
   ],
   "source": [
    "x= \"abcdef\"\n",
    "print(x[::-1])"
   ]
  },
  {
   "cell_type": "code",
   "execution_count": 26,
   "id": "dcb0a984",
   "metadata": {
    "ExecuteTime": {
     "end_time": "2025-09-17T07:29:29.825741Z",
     "start_time": "2025-09-17T07:29:29.807802Z"
    }
   },
   "outputs": [
    {
     "ename": "SyntaxError",
     "evalue": "expected ':' (3104077350.py, line 7)",
     "output_type": "error",
     "traceback": [
      "\u001b[1;36m  Cell \u001b[1;32mIn[26], line 7\u001b[1;36m\u001b[0m\n\u001b[1;33m    else\u001b[0m\n\u001b[1;37m         ^\u001b[0m\n\u001b[1;31mSyntaxError\u001b[0m\u001b[1;31m:\u001b[0m expected ':'\n"
     ]
    }
   ],
   "source": [
    "c = float(input(\"섭씨 온도를 입력해주세요.\"))\n",
    "\n",
    "f = c*1.8 + 32\n",
    "\n",
    "if f.is_integer():\n",
    "    print(int(f))\n",
    "else:\n",
    "    print(f\"{f:.2f}\")\n"
   ]
  },
  {
   "cell_type": "code",
   "execution_count": 30,
   "id": "a641c4e4",
   "metadata": {
    "ExecuteTime": {
     "end_time": "2025-09-17T07:39:19.354240Z",
     "start_time": "2025-09-17T07:39:18.133822Z"
    }
   },
   "outputs": [
    {
     "name": "stdout",
     "output_type": "stream",
     "text": [
      "첫번째 수21\n",
      "두번째 수2\n",
      "num1 + num2 =  23\n"
     ]
    }
   ],
   "source": [
    "# 2 두 정수입력받아 산술연산결과 출력\n",
    "num1 = int(input(\"첫번째 수\"))\n",
    "num2 = int(input(\"두번째 수\"))\n",
    "print(\"num1 + num2 = \", (num1+num2))"
   ]
  },
  {
   "cell_type": "markdown",
   "id": "4e11d788",
   "metadata": {},
   "source": [
    "# "
   ]
  },
  {
   "cell_type": "code",
   "execution_count": null,
   "id": "f4a765d8",
   "metadata": {},
   "outputs": [],
   "source": []
  },
  {
   "cell_type": "code",
   "execution_count": null,
   "id": "bdf1fbdf",
   "metadata": {},
   "outputs": [],
   "source": []
  },
  {
   "cell_type": "code",
   "execution_count": null,
   "id": "af575a75",
   "metadata": {},
   "outputs": [],
   "source": []
  },
  {
   "cell_type": "code",
   "execution_count": null,
   "id": "3c81beb3",
   "metadata": {},
   "outputs": [],
   "source": []
  },
  {
   "cell_type": "code",
   "execution_count": null,
   "id": "b0a8c748",
   "metadata": {},
   "outputs": [],
   "source": []
  },
  {
   "cell_type": "code",
   "execution_count": null,
   "id": "ca8cbd17",
   "metadata": {},
   "outputs": [],
   "source": []
  },
  {
   "cell_type": "code",
   "execution_count": null,
   "id": "2b338dab",
   "metadata": {},
   "outputs": [],
   "source": []
  },
  {
   "cell_type": "code",
   "execution_count": null,
   "id": "4a76f53e",
   "metadata": {},
   "outputs": [],
   "source": []
  },
  {
   "cell_type": "code",
   "execution_count": null,
   "id": "400159bc",
   "metadata": {},
   "outputs": [],
   "source": []
  },
  {
   "cell_type": "code",
   "execution_count": null,
   "id": "6e37d04b",
   "metadata": {},
   "outputs": [],
   "source": []
  },
  {
   "cell_type": "code",
   "execution_count": null,
   "id": "e7c35613",
   "metadata": {},
   "outputs": [],
   "source": []
  }
 ],
 "metadata": {
  "kernelspec": {
   "display_name": "Python 3 (ipykernel)",
   "language": "python",
   "name": "python3"
  },
  "language_info": {
   "codemirror_mode": {
    "name": "ipython",
    "version": 3
   },
   "file_extension": ".py",
   "mimetype": "text/x-python",
   "name": "python",
   "nbconvert_exporter": "python",
   "pygments_lexer": "ipython3",
   "version": "3.10.9"
  },
  "toc": {
   "base_numbering": 1,
   "nav_menu": {},
   "number_sections": false,
   "sideBar": true,
   "skip_h1_title": false,
   "title_cell": "Table of Contents",
   "title_sidebar": "Contents",
   "toc_cell": false,
   "toc_position": {
    "height": "calc(100% - 180px)",
    "left": "10px",
    "top": "150px",
    "width": "165px"
   },
   "toc_section_display": true,
   "toc_window_display": true
  },
  "varInspector": {
   "cols": {
    "lenName": 16,
    "lenType": 16,
    "lenVar": 40
   },
   "kernels_config": {
    "python": {
     "delete_cmd_postfix": "",
     "delete_cmd_prefix": "del ",
     "library": "var_list.py",
     "varRefreshCmd": "print(var_dic_list())"
    },
    "r": {
     "delete_cmd_postfix": ") ",
     "delete_cmd_prefix": "rm(",
     "library": "var_list.r",
     "varRefreshCmd": "cat(var_dic_list()) "
    }
   },
   "types_to_exclude": [
    "module",
    "function",
    "builtin_function_or_method",
    "instance",
    "_Feature"
   ],
   "window_display": false
  }
 },
 "nbformat": 4,
 "nbformat_minor": 5
}
